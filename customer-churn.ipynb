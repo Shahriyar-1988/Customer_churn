{
 "cells": [
  {
   "cell_type": "markdown",
   "id": "4649c878",
   "metadata": {
    "papermill": {
     "duration": 0.012052,
     "end_time": "2025-02-11T02:14:34.789745",
     "exception": false,
     "start_time": "2025-02-11T02:14:34.777693",
     "status": "completed"
    },
    "tags": []
   },
   "source": [
    "# Project Summary: Investigating Imbalanced Data in ML Models\n",
    "\n",
    "In this project, I aim to investigate the impact of imbalanced data on machine learning model performance and devise effective strategies to mitigate this issue. Specifically, I will explore the efficacy of simple down-sampling, SMOTE (Synthetic Minority Over-sampling Technique), and ADASYN (Adaptive Synthetic Sampling) methods. The project will focus on a dataset concerning customer churn. The key steps involved are outlined below:\n",
    "\n",
    "1. **Dataset Import:** Begin by importing the imbalanced dataset of customer churn.\n",
    "\n",
    "2. **Data Discovery and EDA:** Conduct thorough data discovery and exploratory data analysis (EDA) to gain insights into the dataset's features, their trends, and their influence on the target value.\n",
    "\n",
    "3. **Model Training - Logistic Regression:**\n",
    "   - Train a logistic regression model on the dataset under three different scenarios:\n",
    "     1. Training on the imbalanced data to establish baseline performance.\n",
    "     2. Training on data after simple down-sampling, SMOTE over-sampling, and ADASYN synthesis to compare results.\n",
    "4. **XGBoost:**\n",
    " Finally train the best-performing scenario from the previous step on a powerful XGBoost classifier to push the performance limits on this dataset.\n",
    "\n",
    "By following this structured approach, I aim to uncover valuable insights into handling imbalanced data and optimizing machine learning models for improved performance.\n"
   ]
  },
  {
   "cell_type": "code",
   "execution_count": 1,
   "id": "e45688d4",
   "metadata": {
    "_cell_guid": "b1076dfc-b9ad-4769-8c92-a6c4dae69d19",
    "_uuid": "8f2839f25d086af736a60e9eeb907d3b93b6e0e5",
    "execution": {
     "iopub.execute_input": "2025-02-11T02:14:34.814964Z",
     "iopub.status.busy": "2025-02-11T02:14:34.814581Z",
     "iopub.status.idle": "2025-02-11T02:14:35.806264Z",
     "shell.execute_reply": "2025-02-11T02:14:35.804942Z"
    },
    "papermill": {
     "duration": 1.008016,
     "end_time": "2025-02-11T02:14:35.809581",
     "exception": false,
     "start_time": "2025-02-11T02:14:34.801565",
     "status": "completed"
    },
    "tags": []
   },
   "outputs": [
    {
     "name": "stdout",
     "output_type": "stream",
     "text": [
      "/kaggle/input/it-customer-churn/IT_customer_churn.csv\n"
     ]
    }
   ],
   "source": [
    "# This Python 3 environment comes with many helpful analytics libraries installed\n",
    "# It is defined by the kaggle/python Docker image: https://github.com/kaggle/docker-python\n",
    "# For example, here's several helpful packages to load\n",
    "\n",
    "import numpy as np # linear algebra\n",
    "import pandas as pd # data processing, CSV file I/O (e.g. pd.read_csv)\n",
    "\n",
    "# Input data files are available in the read-only \"../input/\" directory\n",
    "# For example, running this (by clicking run or pressing Shift+Enter) will list all files under the input directory\n",
    "\n",
    "import os\n",
    "for dirname, _, filenames in os.walk('/kaggle/input'):\n",
    "    for filename in filenames:\n",
    "        print(os.path.join(dirname, filename))\n",
    "\n",
    "# You can write up to 20GB to the current directory (/kaggle/working/) that gets preserved as output when you create a version using \"Save & Run All\" \n",
    "# You can also write temporary files to /kaggle/temp/, but they won't be saved outside of the current session"
   ]
  },
  {
   "cell_type": "markdown",
   "id": "a085a795",
   "metadata": {
    "papermill": {
     "duration": 0.011588,
     "end_time": "2025-02-11T02:14:35.834345",
     "exception": false,
     "start_time": "2025-02-11T02:14:35.822757",
     "status": "completed"
    },
    "tags": []
   },
   "source": [
    "# Import libraries and packages"
   ]
  },
  {
   "cell_type": "code",
   "execution_count": 2,
   "id": "25f890c6",
   "metadata": {
    "execution": {
     "iopub.execute_input": "2025-02-11T02:14:35.859776Z",
     "iopub.status.busy": "2025-02-11T02:14:35.859183Z",
     "iopub.status.idle": "2025-02-11T02:14:37.372776Z",
     "shell.execute_reply": "2025-02-11T02:14:37.371602Z"
    },
    "papermill": {
     "duration": 1.529559,
     "end_time": "2025-02-11T02:14:37.375549",
     "exception": false,
     "start_time": "2025-02-11T02:14:35.845990",
     "status": "completed"
    },
    "tags": []
   },
   "outputs": [],
   "source": [
    "import seaborn as sns\n",
    "import matplotlib.pyplot as plt\n",
    "import warnings\n",
    "warnings.filterwarnings('ignore')"
   ]
  },
  {
   "cell_type": "markdown",
   "id": "8c857b90",
   "metadata": {
    "papermill": {
     "duration": 0.013236,
     "end_time": "2025-02-11T02:14:37.404549",
     "exception": false,
     "start_time": "2025-02-11T02:14:37.391313",
     "status": "completed"
    },
    "tags": []
   },
   "source": [
    "# Data upload"
   ]
  },
  {
   "cell_type": "code",
   "execution_count": 3,
   "id": "8075ccdf",
   "metadata": {
    "execution": {
     "iopub.execute_input": "2025-02-11T02:14:37.430842Z",
     "iopub.status.busy": "2025-02-11T02:14:37.430474Z",
     "iopub.status.idle": "2025-02-11T02:14:37.520570Z",
     "shell.execute_reply": "2025-02-11T02:14:37.519406Z"
    },
    "papermill": {
     "duration": 0.106046,
     "end_time": "2025-02-11T02:14:37.522939",
     "exception": false,
     "start_time": "2025-02-11T02:14:37.416893",
     "status": "completed"
    },
    "tags": []
   },
   "outputs": [
    {
     "data": {
      "text/html": [
       "<div>\n",
       "<style scoped>\n",
       "    .dataframe tbody tr th:only-of-type {\n",
       "        vertical-align: middle;\n",
       "    }\n",
       "\n",
       "    .dataframe tbody tr th {\n",
       "        vertical-align: top;\n",
       "    }\n",
       "\n",
       "    .dataframe thead th {\n",
       "        text-align: right;\n",
       "    }\n",
       "</style>\n",
       "<table border=\"1\" class=\"dataframe\">\n",
       "  <thead>\n",
       "    <tr style=\"text-align: right;\">\n",
       "      <th></th>\n",
       "      <th>gender</th>\n",
       "      <th>SeniorCitizen</th>\n",
       "      <th>Partner</th>\n",
       "      <th>Dependents</th>\n",
       "      <th>tenure</th>\n",
       "      <th>PhoneService</th>\n",
       "      <th>MultipleLines</th>\n",
       "      <th>InternetService</th>\n",
       "      <th>OnlineSecurity</th>\n",
       "      <th>OnlineBackup</th>\n",
       "      <th>DeviceProtection</th>\n",
       "      <th>TechSupport</th>\n",
       "      <th>StreamingTV</th>\n",
       "      <th>StreamingMovies</th>\n",
       "      <th>Contract</th>\n",
       "      <th>PaperlessBilling</th>\n",
       "      <th>PaymentMethod</th>\n",
       "      <th>MonthlyCharges</th>\n",
       "      <th>TotalCharges</th>\n",
       "      <th>Churn</th>\n",
       "    </tr>\n",
       "  </thead>\n",
       "  <tbody>\n",
       "    <tr>\n",
       "      <th>6512</th>\n",
       "      <td>Male</td>\n",
       "      <td>0</td>\n",
       "      <td>No</td>\n",
       "      <td>No</td>\n",
       "      <td>11</td>\n",
       "      <td>Yes</td>\n",
       "      <td>No</td>\n",
       "      <td>DSL</td>\n",
       "      <td>No</td>\n",
       "      <td>Yes</td>\n",
       "      <td>Yes</td>\n",
       "      <td>Yes</td>\n",
       "      <td>No</td>\n",
       "      <td>No</td>\n",
       "      <td>Month-to-month</td>\n",
       "      <td>Yes</td>\n",
       "      <td>Electronic check</td>\n",
       "      <td>60.90</td>\n",
       "      <td>688.5</td>\n",
       "      <td>No</td>\n",
       "    </tr>\n",
       "    <tr>\n",
       "      <th>86</th>\n",
       "      <td>Female</td>\n",
       "      <td>0</td>\n",
       "      <td>Yes</td>\n",
       "      <td>No</td>\n",
       "      <td>35</td>\n",
       "      <td>Yes</td>\n",
       "      <td>No</td>\n",
       "      <td>DSL</td>\n",
       "      <td>Yes</td>\n",
       "      <td>No</td>\n",
       "      <td>No</td>\n",
       "      <td>No</td>\n",
       "      <td>Yes</td>\n",
       "      <td>No</td>\n",
       "      <td>One year</td>\n",
       "      <td>Yes</td>\n",
       "      <td>Bank transfer (automatic)</td>\n",
       "      <td>62.15</td>\n",
       "      <td>2215.45</td>\n",
       "      <td>No</td>\n",
       "    </tr>\n",
       "    <tr>\n",
       "      <th>1518</th>\n",
       "      <td>Female</td>\n",
       "      <td>0</td>\n",
       "      <td>No</td>\n",
       "      <td>No</td>\n",
       "      <td>5</td>\n",
       "      <td>Yes</td>\n",
       "      <td>No</td>\n",
       "      <td>No</td>\n",
       "      <td>No internet service</td>\n",
       "      <td>No internet service</td>\n",
       "      <td>No internet service</td>\n",
       "      <td>No internet service</td>\n",
       "      <td>No internet service</td>\n",
       "      <td>No internet service</td>\n",
       "      <td>Month-to-month</td>\n",
       "      <td>No</td>\n",
       "      <td>Credit card (automatic)</td>\n",
       "      <td>20.55</td>\n",
       "      <td>96.1</td>\n",
       "      <td>No</td>\n",
       "    </tr>\n",
       "    <tr>\n",
       "      <th>3943</th>\n",
       "      <td>Male</td>\n",
       "      <td>1</td>\n",
       "      <td>No</td>\n",
       "      <td>No</td>\n",
       "      <td>1</td>\n",
       "      <td>Yes</td>\n",
       "      <td>No</td>\n",
       "      <td>DSL</td>\n",
       "      <td>No</td>\n",
       "      <td>No</td>\n",
       "      <td>No</td>\n",
       "      <td>No</td>\n",
       "      <td>No</td>\n",
       "      <td>No</td>\n",
       "      <td>Month-to-month</td>\n",
       "      <td>No</td>\n",
       "      <td>Electronic check</td>\n",
       "      <td>44.00</td>\n",
       "      <td>44</td>\n",
       "      <td>No</td>\n",
       "    </tr>\n",
       "    <tr>\n",
       "      <th>1430</th>\n",
       "      <td>Female</td>\n",
       "      <td>0</td>\n",
       "      <td>No</td>\n",
       "      <td>No</td>\n",
       "      <td>23</td>\n",
       "      <td>Yes</td>\n",
       "      <td>Yes</td>\n",
       "      <td>No</td>\n",
       "      <td>No internet service</td>\n",
       "      <td>No internet service</td>\n",
       "      <td>No internet service</td>\n",
       "      <td>No internet service</td>\n",
       "      <td>No internet service</td>\n",
       "      <td>No internet service</td>\n",
       "      <td>One year</td>\n",
       "      <td>No</td>\n",
       "      <td>Credit card (automatic)</td>\n",
       "      <td>24.80</td>\n",
       "      <td>615.35</td>\n",
       "      <td>No</td>\n",
       "    </tr>\n",
       "  </tbody>\n",
       "</table>\n",
       "</div>"
      ],
      "text/plain": [
       "      gender  SeniorCitizen Partner Dependents  tenure PhoneService  \\\n",
       "6512    Male              0      No         No      11          Yes   \n",
       "86    Female              0     Yes         No      35          Yes   \n",
       "1518  Female              0      No         No       5          Yes   \n",
       "3943    Male              1      No         No       1          Yes   \n",
       "1430  Female              0      No         No      23          Yes   \n",
       "\n",
       "     MultipleLines InternetService       OnlineSecurity         OnlineBackup  \\\n",
       "6512            No             DSL                   No                  Yes   \n",
       "86              No             DSL                  Yes                   No   \n",
       "1518            No              No  No internet service  No internet service   \n",
       "3943            No             DSL                   No                   No   \n",
       "1430           Yes              No  No internet service  No internet service   \n",
       "\n",
       "         DeviceProtection          TechSupport          StreamingTV  \\\n",
       "6512                  Yes                  Yes                   No   \n",
       "86                     No                   No                  Yes   \n",
       "1518  No internet service  No internet service  No internet service   \n",
       "3943                   No                   No                   No   \n",
       "1430  No internet service  No internet service  No internet service   \n",
       "\n",
       "          StreamingMovies        Contract PaperlessBilling  \\\n",
       "6512                   No  Month-to-month              Yes   \n",
       "86                     No        One year              Yes   \n",
       "1518  No internet service  Month-to-month               No   \n",
       "3943                   No  Month-to-month               No   \n",
       "1430  No internet service        One year               No   \n",
       "\n",
       "                  PaymentMethod  MonthlyCharges TotalCharges Churn  \n",
       "6512           Electronic check           60.90        688.5    No  \n",
       "86    Bank transfer (automatic)           62.15      2215.45    No  \n",
       "1518    Credit card (automatic)           20.55         96.1    No  \n",
       "3943           Electronic check           44.00           44    No  \n",
       "1430    Credit card (automatic)           24.80       615.35    No  "
      ]
     },
     "execution_count": 3,
     "metadata": {},
     "output_type": "execute_result"
    }
   ],
   "source": [
    "df = pd.read_csv('/kaggle/input/it-customer-churn/IT_customer_churn.csv')\n",
    "df.sample(5)"
   ]
  },
  {
   "cell_type": "markdown",
   "id": "3bf8d81a",
   "metadata": {
    "papermill": {
     "duration": 0.012037,
     "end_time": "2025-02-11T02:14:37.547639",
     "exception": false,
     "start_time": "2025-02-11T02:14:37.535602",
     "status": "completed"
    },
    "tags": []
   },
   "source": [
    "# Data discovery"
   ]
  },
  {
   "cell_type": "code",
   "execution_count": 4,
   "id": "9116162f",
   "metadata": {
    "execution": {
     "iopub.execute_input": "2025-02-11T02:14:37.573737Z",
     "iopub.status.busy": "2025-02-11T02:14:37.573404Z",
     "iopub.status.idle": "2025-02-11T02:14:37.580112Z",
     "shell.execute_reply": "2025-02-11T02:14:37.579055Z"
    },
    "papermill": {
     "duration": 0.022161,
     "end_time": "2025-02-11T02:14:37.582075",
     "exception": false,
     "start_time": "2025-02-11T02:14:37.559914",
     "status": "completed"
    },
    "tags": []
   },
   "outputs": [
    {
     "data": {
      "text/plain": [
       "(7043, 20)"
      ]
     },
     "execution_count": 4,
     "metadata": {},
     "output_type": "execute_result"
    }
   ],
   "source": [
    "df.shape"
   ]
  },
  {
   "cell_type": "code",
   "execution_count": 5,
   "id": "c93b9ea8",
   "metadata": {
    "execution": {
     "iopub.execute_input": "2025-02-11T02:14:37.608503Z",
     "iopub.status.busy": "2025-02-11T02:14:37.608099Z",
     "iopub.status.idle": "2025-02-11T02:14:37.615120Z",
     "shell.execute_reply": "2025-02-11T02:14:37.614097Z"
    },
    "papermill": {
     "duration": 0.022771,
     "end_time": "2025-02-11T02:14:37.617170",
     "exception": false,
     "start_time": "2025-02-11T02:14:37.594399",
     "status": "completed"
    },
    "tags": []
   },
   "outputs": [
    {
     "data": {
      "text/plain": [
       "Index(['gender', 'SeniorCitizen', 'Partner', 'Dependents', 'tenure',\n",
       "       'PhoneService', 'MultipleLines', 'InternetService', 'OnlineSecurity',\n",
       "       'OnlineBackup', 'DeviceProtection', 'TechSupport', 'StreamingTV',\n",
       "       'StreamingMovies', 'Contract', 'PaperlessBilling', 'PaymentMethod',\n",
       "       'MonthlyCharges', 'TotalCharges', 'Churn'],\n",
       "      dtype='object')"
      ]
     },
     "execution_count": 5,
     "metadata": {},
     "output_type": "execute_result"
    }
   ],
   "source": [
    "df.columns"
   ]
  },
  {
   "cell_type": "code",
   "execution_count": 6,
   "id": "283fc4c6",
   "metadata": {
    "execution": {
     "iopub.execute_input": "2025-02-11T02:14:37.643821Z",
     "iopub.status.busy": "2025-02-11T02:14:37.643455Z",
     "iopub.status.idle": "2025-02-11T02:14:37.651677Z",
     "shell.execute_reply": "2025-02-11T02:14:37.650656Z"
    },
    "papermill": {
     "duration": 0.024368,
     "end_time": "2025-02-11T02:14:37.653845",
     "exception": false,
     "start_time": "2025-02-11T02:14:37.629477",
     "status": "completed"
    },
    "tags": []
   },
   "outputs": [
    {
     "data": {
      "text/plain": [
       "gender               object\n",
       "SeniorCitizen         int64\n",
       "Partner              object\n",
       "Dependents           object\n",
       "tenure                int64\n",
       "PhoneService         object\n",
       "MultipleLines        object\n",
       "InternetService      object\n",
       "OnlineSecurity       object\n",
       "OnlineBackup         object\n",
       "DeviceProtection     object\n",
       "TechSupport          object\n",
       "StreamingTV          object\n",
       "StreamingMovies      object\n",
       "Contract             object\n",
       "PaperlessBilling     object\n",
       "PaymentMethod        object\n",
       "MonthlyCharges      float64\n",
       "TotalCharges         object\n",
       "Churn                object\n",
       "dtype: object"
      ]
     },
     "execution_count": 6,
     "metadata": {},
     "output_type": "execute_result"
    }
   ],
   "source": [
    "df.dtypes"
   ]
  },
  {
   "cell_type": "code",
   "execution_count": 7,
   "id": "18732120",
   "metadata": {
    "execution": {
     "iopub.execute_input": "2025-02-11T02:14:37.680583Z",
     "iopub.status.busy": "2025-02-11T02:14:37.680068Z",
     "iopub.status.idle": "2025-02-11T02:14:37.733274Z",
     "shell.execute_reply": "2025-02-11T02:14:37.731853Z"
    },
    "papermill": {
     "duration": 0.069595,
     "end_time": "2025-02-11T02:14:37.735917",
     "exception": false,
     "start_time": "2025-02-11T02:14:37.666322",
     "status": "completed"
    },
    "tags": []
   },
   "outputs": [
    {
     "name": "stdout",
     "output_type": "stream",
     "text": [
      "<class 'pandas.core.frame.DataFrame'>\n",
      "RangeIndex: 7043 entries, 0 to 7042\n",
      "Data columns (total 20 columns):\n",
      " #   Column            Non-Null Count  Dtype  \n",
      "---  ------            --------------  -----  \n",
      " 0   gender            7043 non-null   object \n",
      " 1   SeniorCitizen     7043 non-null   int64  \n",
      " 2   Partner           7043 non-null   object \n",
      " 3   Dependents        7043 non-null   object \n",
      " 4   tenure            7043 non-null   int64  \n",
      " 5   PhoneService      7043 non-null   object \n",
      " 6   MultipleLines     7043 non-null   object \n",
      " 7   InternetService   7043 non-null   object \n",
      " 8   OnlineSecurity    7043 non-null   object \n",
      " 9   OnlineBackup      7043 non-null   object \n",
      " 10  DeviceProtection  7043 non-null   object \n",
      " 11  TechSupport       7043 non-null   object \n",
      " 12  StreamingTV       7043 non-null   object \n",
      " 13  StreamingMovies   7043 non-null   object \n",
      " 14  Contract          7043 non-null   object \n",
      " 15  PaperlessBilling  7043 non-null   object \n",
      " 16  PaymentMethod     7043 non-null   object \n",
      " 17  MonthlyCharges    7043 non-null   float64\n",
      " 18  TotalCharges      7043 non-null   object \n",
      " 19  Churn             7043 non-null   object \n",
      "dtypes: float64(1), int64(2), object(17)\n",
      "memory usage: 7.3 MB\n"
     ]
    }
   ],
   "source": [
    "df.info(memory_usage='deep')"
   ]
  },
  {
   "cell_type": "code",
   "execution_count": 8,
   "id": "19a73ffc",
   "metadata": {
    "execution": {
     "iopub.execute_input": "2025-02-11T02:14:37.763906Z",
     "iopub.status.busy": "2025-02-11T02:14:37.763052Z",
     "iopub.status.idle": "2025-02-11T02:14:37.772479Z",
     "shell.execute_reply": "2025-02-11T02:14:37.771251Z"
    },
    "papermill": {
     "duration": 0.025837,
     "end_time": "2025-02-11T02:14:37.774675",
     "exception": false,
     "start_time": "2025-02-11T02:14:37.748838",
     "status": "completed"
    },
    "tags": []
   },
   "outputs": [
    {
     "data": {
      "text/plain": [
       "Churn\n",
       "No     73.463013\n",
       "Yes    26.536987\n",
       "Name: proportion, dtype: float64"
      ]
     },
     "execution_count": 8,
     "metadata": {},
     "output_type": "execute_result"
    }
   ],
   "source": [
    "# Dataset balancing status\n",
    "100*df.Churn.value_counts(normalize=True)"
   ]
  },
  {
   "cell_type": "markdown",
   "id": "7b60de31",
   "metadata": {
    "papermill": {
     "duration": 0.012905,
     "end_time": "2025-02-11T02:14:37.800299",
     "exception": false,
     "start_time": "2025-02-11T02:14:37.787394",
     "status": "completed"
    },
    "tags": []
   },
   "source": [
    "***There seems to be a problem with the \"TotalCharges\" feature, which is supposed to be a float number while it is an object***"
   ]
  },
  {
   "cell_type": "code",
   "execution_count": 9,
   "id": "5c0774b7",
   "metadata": {
    "execution": {
     "iopub.execute_input": "2025-02-11T02:14:37.827344Z",
     "iopub.status.busy": "2025-02-11T02:14:37.826915Z",
     "iopub.status.idle": "2025-02-11T02:14:37.840114Z",
     "shell.execute_reply": "2025-02-11T02:14:37.839064Z"
    },
    "papermill": {
     "duration": 0.030072,
     "end_time": "2025-02-11T02:14:37.843062",
     "exception": false,
     "start_time": "2025-02-11T02:14:37.812990",
     "status": "completed"
    },
    "tags": []
   },
   "outputs": [
    {
     "data": {
      "text/plain": [
       "11"
      ]
     },
     "execution_count": 9,
     "metadata": {},
     "output_type": "execute_result"
    }
   ],
   "source": [
    "df.TotalCharges=df['TotalCharges'].str.strip()\n",
    "pd.to_numeric(df.TotalCharges,errors='coerce').isnull().sum()"
   ]
  },
  {
   "cell_type": "markdown",
   "id": "2bbe2878",
   "metadata": {
    "papermill": {
     "duration": 0.012561,
     "end_time": "2025-02-11T02:14:37.868595",
     "exception": false,
     "start_time": "2025-02-11T02:14:37.856034",
     "status": "completed"
    },
    "tags": []
   },
   "source": [
    "***We have to first convert the \"TotalCharges\" to numeric data and then drop the null values***"
   ]
  },
  {
   "cell_type": "code",
   "execution_count": 10,
   "id": "94aee757",
   "metadata": {
    "execution": {
     "iopub.execute_input": "2025-02-11T02:14:37.896367Z",
     "iopub.status.busy": "2025-02-11T02:14:37.895878Z",
     "iopub.status.idle": "2025-02-11T02:14:37.912425Z",
     "shell.execute_reply": "2025-02-11T02:14:37.911310Z"
    },
    "papermill": {
     "duration": 0.032973,
     "end_time": "2025-02-11T02:14:37.914697",
     "exception": false,
     "start_time": "2025-02-11T02:14:37.881724",
     "status": "completed"
    },
    "tags": []
   },
   "outputs": [
    {
     "data": {
      "text/plain": [
       "(7032, 20)"
      ]
     },
     "execution_count": 10,
     "metadata": {},
     "output_type": "execute_result"
    }
   ],
   "source": [
    "df['TotalCharges']= pd.to_numeric(df.TotalCharges,errors='coerce')\n",
    "df.dropna(subset=['TotalCharges'],axis=0,inplace=True)\n",
    "df.shape"
   ]
  },
  {
   "cell_type": "code",
   "execution_count": 11,
   "id": "8636da48",
   "metadata": {
    "execution": {
     "iopub.execute_input": "2025-02-11T02:14:37.942329Z",
     "iopub.status.busy": "2025-02-11T02:14:37.941552Z",
     "iopub.status.idle": "2025-02-11T02:14:37.946928Z",
     "shell.execute_reply": "2025-02-11T02:14:37.945856Z"
    },
    "papermill": {
     "duration": 0.021752,
     "end_time": "2025-02-11T02:14:37.949022",
     "exception": false,
     "start_time": "2025-02-11T02:14:37.927270",
     "status": "completed"
    },
    "tags": []
   },
   "outputs": [],
   "source": [
    "def list_unique_values(df):\n",
    "    obj_col = df.select_dtypes(include='object').columns\n",
    "    for col in obj_col:\n",
    "        print(f\"The categories of column {col}: {df[col].unique()}\")\n"
   ]
  },
  {
   "cell_type": "code",
   "execution_count": 12,
   "id": "719befb8",
   "metadata": {
    "execution": {
     "iopub.execute_input": "2025-02-11T02:14:37.976374Z",
     "iopub.status.busy": "2025-02-11T02:14:37.975965Z",
     "iopub.status.idle": "2025-02-11T02:14:37.994603Z",
     "shell.execute_reply": "2025-02-11T02:14:37.993185Z"
    },
    "papermill": {
     "duration": 0.034867,
     "end_time": "2025-02-11T02:14:37.996941",
     "exception": false,
     "start_time": "2025-02-11T02:14:37.962074",
     "status": "completed"
    },
    "tags": []
   },
   "outputs": [
    {
     "name": "stdout",
     "output_type": "stream",
     "text": [
      "The categories of column gender: ['Female' 'Male']\n",
      "The categories of column Partner: ['Yes' 'No']\n",
      "The categories of column Dependents: ['No' 'Yes']\n",
      "The categories of column PhoneService: ['No' 'Yes']\n",
      "The categories of column MultipleLines: ['No phone service' 'No' 'Yes']\n",
      "The categories of column InternetService: ['DSL' 'Fiber optic' 'No']\n",
      "The categories of column OnlineSecurity: ['No' 'Yes' 'No internet service']\n",
      "The categories of column OnlineBackup: ['Yes' 'No' 'No internet service']\n",
      "The categories of column DeviceProtection: ['No' 'Yes' 'No internet service']\n",
      "The categories of column TechSupport: ['No' 'Yes' 'No internet service']\n",
      "The categories of column StreamingTV: ['No' 'Yes' 'No internet service']\n",
      "The categories of column StreamingMovies: ['No' 'Yes' 'No internet service']\n",
      "The categories of column Contract: ['Month-to-month' 'One year' 'Two year']\n",
      "The categories of column PaperlessBilling: ['Yes' 'No']\n",
      "The categories of column PaymentMethod: ['Electronic check' 'Mailed check' 'Bank transfer (automatic)'\n",
      " 'Credit card (automatic)']\n",
      "The categories of column Churn: ['No' 'Yes']\n"
     ]
    }
   ],
   "source": [
    "list_unique_values(df)"
   ]
  },
  {
   "cell_type": "markdown",
   "id": "669de413",
   "metadata": {
    "papermill": {
     "duration": 0.012534,
     "end_time": "2025-02-11T02:14:38.022998",
     "exception": false,
     "start_time": "2025-02-11T02:14:38.010464",
     "status": "completed"
    },
    "tags": []
   },
   "source": [
    "***It seems that some of the categories in the features above are redundent categries and can be merged into other categories***"
   ]
  },
  {
   "cell_type": "code",
   "execution_count": 13,
   "id": "69ededde",
   "metadata": {
    "execution": {
     "iopub.execute_input": "2025-02-11T02:14:38.050195Z",
     "iopub.status.busy": "2025-02-11T02:14:38.049835Z",
     "iopub.status.idle": "2025-02-11T02:14:38.068531Z",
     "shell.execute_reply": "2025-02-11T02:14:38.067478Z"
    },
    "papermill": {
     "duration": 0.035188,
     "end_time": "2025-02-11T02:14:38.071071",
     "exception": false,
     "start_time": "2025-02-11T02:14:38.035883",
     "status": "completed"
    },
    "tags": []
   },
   "outputs": [],
   "source": [
    "redundant_cat_cols = ['MultipleLines',\n",
    "                      'OnlineSecurity',\n",
    "                      'OnlineBackup',\n",
    "                      'DeviceProtection',\n",
    "                      'TechSupport',\n",
    "                      'StreamingTV',\n",
    "                      'StreamingMovies']\n",
    "\n",
    "for col in redundant_cat_cols:\n",
    "    df[col] = df[col].where(df[col].isin(['Yes', 'No']), 'No')\n"
   ]
  },
  {
   "cell_type": "code",
   "execution_count": 14,
   "id": "08585669",
   "metadata": {
    "execution": {
     "iopub.execute_input": "2025-02-11T02:14:38.156870Z",
     "iopub.status.busy": "2025-02-11T02:14:38.156544Z",
     "iopub.status.idle": "2025-02-11T02:14:38.173432Z",
     "shell.execute_reply": "2025-02-11T02:14:38.172282Z"
    },
    "papermill": {
     "duration": 0.091742,
     "end_time": "2025-02-11T02:14:38.175741",
     "exception": false,
     "start_time": "2025-02-11T02:14:38.083999",
     "status": "completed"
    },
    "tags": []
   },
   "outputs": [
    {
     "name": "stdout",
     "output_type": "stream",
     "text": [
      "The categories of column gender: ['Female' 'Male']\n",
      "The categories of column Partner: ['Yes' 'No']\n",
      "The categories of column Dependents: ['No' 'Yes']\n",
      "The categories of column PhoneService: ['No' 'Yes']\n",
      "The categories of column MultipleLines: ['No' 'Yes']\n",
      "The categories of column InternetService: ['DSL' 'Fiber optic' 'No']\n",
      "The categories of column OnlineSecurity: ['No' 'Yes']\n",
      "The categories of column OnlineBackup: ['Yes' 'No']\n",
      "The categories of column DeviceProtection: ['No' 'Yes']\n",
      "The categories of column TechSupport: ['No' 'Yes']\n",
      "The categories of column StreamingTV: ['No' 'Yes']\n",
      "The categories of column StreamingMovies: ['No' 'Yes']\n",
      "The categories of column Contract: ['Month-to-month' 'One year' 'Two year']\n",
      "The categories of column PaperlessBilling: ['Yes' 'No']\n",
      "The categories of column PaymentMethod: ['Electronic check' 'Mailed check' 'Bank transfer (automatic)'\n",
      " 'Credit card (automatic)']\n",
      "The categories of column Churn: ['No' 'Yes']\n"
     ]
    }
   ],
   "source": [
    "list_unique_values(df)"
   ]
  },
  {
   "cell_type": "code",
   "execution_count": 15,
   "id": "801e7e7f",
   "metadata": {
    "execution": {
     "iopub.execute_input": "2025-02-11T02:14:38.204612Z",
     "iopub.status.busy": "2025-02-11T02:14:38.203614Z",
     "iopub.status.idle": "2025-02-11T02:14:38.212949Z",
     "shell.execute_reply": "2025-02-11T02:14:38.211917Z"
    },
    "papermill": {
     "duration": 0.026279,
     "end_time": "2025-02-11T02:14:38.215193",
     "exception": false,
     "start_time": "2025-02-11T02:14:38.188914",
     "status": "completed"
    },
    "tags": []
   },
   "outputs": [
    {
     "data": {
      "text/plain": [
       "SeniorCitizen\n",
       "0    83.759954\n",
       "1    16.240046\n",
       "Name: proportion, dtype: float64"
      ]
     },
     "execution_count": 15,
     "metadata": {},
     "output_type": "execute_result"
    }
   ],
   "source": [
    "100*df['SeniorCitizen'].value_counts(normalize=True)"
   ]
  },
  {
   "cell_type": "markdown",
   "id": "263fd863",
   "metadata": {
    "papermill": {
     "duration": 0.013194,
     "end_time": "2025-02-11T02:14:38.241717",
     "exception": false,
     "start_time": "2025-02-11T02:14:38.228523",
     "status": "completed"
    },
    "tags": []
   },
   "source": [
    "# EDA and Visualization"
   ]
  },
  {
   "cell_type": "code",
   "execution_count": 16,
   "id": "3d6ce5b6",
   "metadata": {
    "execution": {
     "iopub.execute_input": "2025-02-11T02:14:38.271280Z",
     "iopub.status.busy": "2025-02-11T02:14:38.270134Z",
     "iopub.status.idle": "2025-02-11T02:14:38.277409Z",
     "shell.execute_reply": "2025-02-11T02:14:38.276405Z"
    },
    "papermill": {
     "duration": 0.024298,
     "end_time": "2025-02-11T02:14:38.279670",
     "exception": false,
     "start_time": "2025-02-11T02:14:38.255372",
     "status": "completed"
    },
    "tags": []
   },
   "outputs": [
    {
     "data": {
      "text/plain": [
       "Index(['gender', 'SeniorCitizen', 'Partner', 'Dependents', 'tenure',\n",
       "       'PhoneService', 'MultipleLines', 'InternetService', 'OnlineSecurity',\n",
       "       'OnlineBackup', 'DeviceProtection', 'TechSupport', 'StreamingTV',\n",
       "       'StreamingMovies', 'Contract', 'PaperlessBilling', 'PaymentMethod',\n",
       "       'MonthlyCharges', 'TotalCharges', 'Churn'],\n",
       "      dtype='object')"
      ]
     },
     "execution_count": 16,
     "metadata": {},
     "output_type": "execute_result"
    }
   ],
   "source": [
    "df.columns"
   ]
  },
  {
   "cell_type": "code",
   "execution_count": 17,
   "id": "9b2e4e1e",
   "metadata": {
    "execution": {
     "iopub.execute_input": "2025-02-11T02:14:38.309995Z",
     "iopub.status.busy": "2025-02-11T02:14:38.309623Z",
     "iopub.status.idle": "2025-02-11T02:14:38.321950Z",
     "shell.execute_reply": "2025-02-11T02:14:38.320744Z"
    },
    "papermill": {
     "duration": 0.030677,
     "end_time": "2025-02-11T02:14:38.324290",
     "exception": false,
     "start_time": "2025-02-11T02:14:38.293613",
     "status": "completed"
    },
    "tags": []
   },
   "outputs": [
    {
     "data": {
      "text/plain": [
       "StreamingMovies\n",
       "No     1051\n",
       "Yes     818\n",
       "Name: Churn, dtype: int64"
      ]
     },
     "execution_count": 17,
     "metadata": {},
     "output_type": "execute_result"
    }
   ],
   "source": [
    "df[df['Churn'] == 'Yes'].groupby(by='StreamingMovies')['Churn'].count()"
   ]
  },
  {
   "cell_type": "code",
   "execution_count": 18,
   "id": "57c4af7f",
   "metadata": {
    "execution": {
     "iopub.execute_input": "2025-02-11T02:14:38.353319Z",
     "iopub.status.busy": "2025-02-11T02:14:38.352911Z",
     "iopub.status.idle": "2025-02-11T02:14:38.365175Z",
     "shell.execute_reply": "2025-02-11T02:14:38.363932Z"
    },
    "papermill": {
     "duration": 0.029221,
     "end_time": "2025-02-11T02:14:38.367565",
     "exception": false,
     "start_time": "2025-02-11T02:14:38.338344",
     "status": "completed"
    },
    "tags": []
   },
   "outputs": [
    {
     "data": {
      "text/plain": [
       "StreamingTV\n",
       "No     1055\n",
       "Yes     814\n",
       "Name: Churn, dtype: int64"
      ]
     },
     "execution_count": 18,
     "metadata": {},
     "output_type": "execute_result"
    }
   ],
   "source": [
    "df[df['Churn'] == 'Yes'].groupby(by='StreamingTV')['Churn'].count()"
   ]
  },
  {
   "cell_type": "code",
   "execution_count": 19,
   "id": "13b2f765",
   "metadata": {
    "execution": {
     "iopub.execute_input": "2025-02-11T02:14:38.396098Z",
     "iopub.status.busy": "2025-02-11T02:14:38.395764Z",
     "iopub.status.idle": "2025-02-11T02:14:38.407016Z",
     "shell.execute_reply": "2025-02-11T02:14:38.405679Z"
    },
    "papermill": {
     "duration": 0.027982,
     "end_time": "2025-02-11T02:14:38.409183",
     "exception": false,
     "start_time": "2025-02-11T02:14:38.381201",
     "status": "completed"
    },
    "tags": []
   },
   "outputs": [
    {
     "data": {
      "text/plain": [
       "TechSupport\n",
       "No     1559\n",
       "Yes     310\n",
       "Name: Churn, dtype: int64"
      ]
     },
     "execution_count": 19,
     "metadata": {},
     "output_type": "execute_result"
    }
   ],
   "source": [
    "df[df['Churn'] == 'Yes'].groupby(by='TechSupport')['Churn'].count()"
   ]
  },
  {
   "cell_type": "markdown",
   "id": "0579fa6c",
   "metadata": {
    "papermill": {
     "duration": 0.013314,
     "end_time": "2025-02-11T02:14:38.436287",
     "exception": false,
     "start_time": "2025-02-11T02:14:38.422973",
     "status": "completed"
    },
    "tags": []
   },
   "source": [
    "***The effect of followings on the churn will be investigated through visualization and statistical tests:***\n",
    "- Gender\n",
    "- Whether or not any dependents\n",
    "- Tenure\n",
    "- Type of contract\n",
    "- Payment method\n",
    "- Total charges\n",
    "- Monthly charges"
   ]
  },
  {
   "cell_type": "code",
   "execution_count": 20,
   "id": "834479ef",
   "metadata": {
    "execution": {
     "iopub.execute_input": "2025-02-11T02:14:38.465576Z",
     "iopub.status.busy": "2025-02-11T02:14:38.465083Z",
     "iopub.status.idle": "2025-02-11T02:14:39.495052Z",
     "shell.execute_reply": "2025-02-11T02:14:39.493942Z"
    },
    "papermill": {
     "duration": 1.049402,
     "end_time": "2025-02-11T02:14:39.499194",
     "exception": false,
     "start_time": "2025-02-11T02:14:38.449792",
     "status": "completed"
    },
    "tags": []
   },
   "outputs": [
    {
     "data": {
      "image/png": "[encoded data removed]",
      "text/plain": [
       "<Figure size 1500x1000 with 4 Axes>"
      ]
     },
     "metadata": {},
     "output_type": "display_data"
    }
   ],
   "source": [
    "# Create a figure with two subplots\n",
    "fig, axes = plt.subplots(2, 2, figsize=(15, 10))\n",
    "\n",
    "# Plot countplot for 'gender' in the first subplot\n",
    "sns.countplot(data=df, x='gender', hue='Churn', ax=axes[0,0])\n",
    "axes[0,0].set_title('Churn by Gender')\n",
    "\n",
    "# Plot countplot for 'dependent' in the second subplot\n",
    "sns.countplot(data=df, x='Dependents', hue='Churn', ax=axes[0,1], palette='Set2')\n",
    "axes[0,1].set_title('Churn by Dependent')\n",
    "# Plot countplot for 'contract' in the third subplot\n",
    "sns.countplot(data=df, x='Contract', hue='Churn', ax=axes[1,0])\n",
    "axes[1,0].set_title('Churn by Contract')\n",
    "# Plot countplot for 'payment method' in the third subplot\n",
    "sns.countplot(data=df, x='PaymentMethod', hue='Churn', ax=axes[1,1])\n",
    "axes[1,1].set_title('Churn by payment method')\n",
    "axes[1, 1].tick_params(axis='x', rotation=-15)  # Rotate xticks by 45 degrees\n",
    "# Adjust spacing between subplots\n",
    "plt.tight_layout()\n",
    "\n",
    "# Show the plot\n",
    "plt.show()\n"
   ]
  },
  {
   "cell_type": "code",
   "execution_count": 21,
   "id": "afa30844",
   "metadata": {
    "execution": {
     "iopub.execute_input": "2025-02-11T02:14:39.536418Z",
     "iopub.status.busy": "2025-02-11T02:14:39.535744Z",
     "iopub.status.idle": "2025-02-11T02:14:40.211493Z",
     "shell.execute_reply": "2025-02-11T02:14:40.210262Z"
    },
    "papermill": {
     "duration": 0.694944,
     "end_time": "2025-02-11T02:14:40.214075",
     "exception": false,
     "start_time": "2025-02-11T02:14:39.519131",
     "status": "completed"
    },
    "tags": []
   },
   "outputs": [
    {
     "data": {
      "image/png": "[encoded data removed]",
      "text/plain": [
       "<Figure size 1200x500 with 2 Axes>"
      ]
     },
     "metadata": {},
     "output_type": "display_data"
    }
   ],
   "source": [
    "fig, axes = plt.subplots(1,2,figsize=(12,5))\n",
    "sns.histplot(data=df,x='tenure',hue='Churn', multiple='dodge',ax=axes[0])\n",
    "axes[0].set_xlabel('Tenure')\n",
    "axes[0].set_ylabel('Frequency')\n",
    "axes[0].set_title('Churn Distribution by Tenure')\n",
    "sns.kdeplot(data=df,x='tenure',ax=axes[1],fill=True)\n",
    "axes[1].set_title('Tenure distribution in the dataset')\n",
    "plt.show()"
   ]
  },
  {
   "cell_type": "code",
   "execution_count": 22,
   "id": "d7feb2e4",
   "metadata": {
    "execution": {
     "iopub.execute_input": "2025-02-11T02:14:40.248921Z",
     "iopub.status.busy": "2025-02-11T02:14:40.248028Z",
     "iopub.status.idle": "2025-02-11T02:14:40.894609Z",
     "shell.execute_reply": "2025-02-11T02:14:40.893467Z"
    },
    "papermill": {
     "duration": 0.667033,
     "end_time": "2025-02-11T02:14:40.897009",
     "exception": false,
     "start_time": "2025-02-11T02:14:40.229976",
     "status": "completed"
    },
    "tags": []
   },
   "outputs": [
    {
     "data": {
      "image/png": "[encoded data removed]",
      "text/plain": [
       "<Figure size 1400x500 with 2 Axes>"
      ]
     },
     "metadata": {},
     "output_type": "display_data"
    }
   ],
   "source": [
    "fig, axes = plt.subplots(1,2,figsize=(14,5))\n",
    "sns.histplot(data=df,x='TotalCharges',hue='Churn', multiple='dodge',ax=axes[0])\n",
    "axes[0].set_xlabel('Total charges')\n",
    "axes[0].set_ylabel('Frequency')\n",
    "axes[0].set_title('Churn Distribution by Total charge')\n",
    "sns.kdeplot(data=df,x='TotalCharges',ax=axes[1],fill=True)\n",
    "axes[1].set_title('Total charges distribution in the dataset')\n",
    "plt.show()"
   ]
  },
  {
   "cell_type": "code",
   "execution_count": 23,
   "id": "5e0f53c1",
   "metadata": {
    "execution": {
     "iopub.execute_input": "2025-02-11T02:14:40.933160Z",
     "iopub.status.busy": "2025-02-11T02:14:40.932778Z",
     "iopub.status.idle": "2025-02-11T02:14:41.533097Z",
     "shell.execute_reply": "2025-02-11T02:14:41.532120Z"
    },
    "papermill": {
     "duration": 0.622273,
     "end_time": "2025-02-11T02:14:41.535738",
     "exception": false,
     "start_time": "2025-02-11T02:14:40.913465",
     "status": "completed"
    },
    "tags": []
   },
   "outputs": [
    {
     "data": {
      "image/png": "[encoded data removed]",
      "text/plain": [
       "<Figure size 1400x500 with 2 Axes>"
      ]
     },
     "metadata": {},
     "output_type": "display_data"
    }
   ],
   "source": [
    "fig, axes = plt.subplots(1,2,figsize=(14,5))\n",
    "sns.histplot(data=df,x='MonthlyCharges',hue='Churn', multiple='dodge',ax=axes[0])\n",
    "axes[0].set_xlabel('Monthly charges')\n",
    "axes[0].set_ylabel('Frequency')\n",
    "axes[0].set_title('Churn Distribution by Monthly charge')\n",
    "sns.kdeplot(data=df,x='MonthlyCharges',ax=axes[1],fill=True)\n",
    "axes[1].set_title('Monthly charges distribution in the dataset')\n",
    "plt.show()"
   ]
  },
  {
   "cell_type": "markdown",
   "id": "4a7207b4",
   "metadata": {
    "papermill": {
     "duration": 0.017081,
     "end_time": "2025-02-11T02:14:41.570074",
     "exception": false,
     "start_time": "2025-02-11T02:14:41.552993",
     "status": "completed"
    },
    "tags": []
   },
   "source": [
    "### EDA takeaways:\n",
    "- More than 80% of those who churned were ***not*** senior citizens.\n",
    "- Gender appears to have almost no influence on the churn in this dataset.\n",
    "- People who have no dependents are more prone to churn compared to people with dependents.\n",
    "- The type of contract greatly influences the tendency of people to churn. Monthly contracts have the highest risk of churn.\n",
    "- There is a significantly higher number of customers who churn with the electronic check payment method compared to other methods.\n",
    "-Customers using automatic payment methods (bank transfer and credit card) tend to have lower churn rates. This could be due to the convenience and reliability of automatic payments, which might contribute to higher customer satisfaction and retention. While, the high churn rate for electronic checks could indicate issues with this payment method, such as perceived inconvenience, higher fees, or association with more transient customers.\n",
    "- Total charges is heavily skewed to the left. This feature may lead to bias in training and needs to be normalized by either scaling or log transformation\n",
    "-As monthly charges increase, the churn rate appears to increase as well. This suggests that customers with higher monthly payments are more likely to leave, possibly due to perceiving the service as less valuable or finding better alternatives.\n",
    "- The binomial distribution of monthly charges can be handled by binning the charges of this \n",
    "feature for non-tree based models.\n",
    "- Not having services such as  streaming packages and tech support may increase the tendency of people to churn.\n"
   ]
  },
  {
   "cell_type": "markdown",
   "id": "d2bb6b2f",
   "metadata": {
    "papermill": {
     "duration": 0.017065,
     "end_time": "2025-02-11T02:14:41.604448",
     "exception": false,
     "start_time": "2025-02-11T02:14:41.587383",
     "status": "completed"
    },
    "tags": []
   },
   "source": [
    "# Model training: Logistic regression"
   ]
  },
  {
   "cell_type": "markdown",
   "id": "0b67d6a3",
   "metadata": {
    "papermill": {
     "duration": 0.016876,
     "end_time": "2025-02-11T02:14:41.638511",
     "exception": false,
     "start_time": "2025-02-11T02:14:41.621635",
     "status": "completed"
    },
    "tags": []
   },
   "source": [
    "### Import packages and libraries"
   ]
  },
  {
   "cell_type": "code",
   "execution_count": 24,
   "id": "33050cf0",
   "metadata": {
    "execution": {
     "iopub.execute_input": "2025-02-11T02:14:41.674449Z",
     "iopub.status.busy": "2025-02-11T02:14:41.674086Z",
     "iopub.status.idle": "2025-02-11T02:14:42.693579Z",
     "shell.execute_reply": "2025-02-11T02:14:42.692540Z"
    },
    "papermill": {
     "duration": 1.040392,
     "end_time": "2025-02-11T02:14:42.696017",
     "exception": false,
     "start_time": "2025-02-11T02:14:41.655625",
     "status": "completed"
    },
    "tags": []
   },
   "outputs": [],
   "source": [
    "from sklearn.model_selection import train_test_split\n",
    "from sklearn.linear_model import LogisticRegression\n",
    "from xgboost import XGBClassifier\n",
    "from sklearn.compose import make_column_selector, make_column_transformer\n",
    "from sklearn.preprocessing import OneHotEncoder\n",
    "from sklearn.preprocessing import MinMaxScaler\n",
    "from sklearn.pipeline import Pipeline\n",
    "\n",
    "from imblearn.over_sampling import SMOTE,ADASYN\n",
    "from sklearn.metrics import classification_report,accuracy_score\n",
    "\n",
    "from sklearn.model_selection import RandomizedSearchCV\n",
    "\n"
   ]
  },
  {
   "cell_type": "markdown",
   "id": "2ad74084",
   "metadata": {
    "papermill": {
     "duration": 0.017116,
     "end_time": "2025-02-11T02:14:42.732360",
     "exception": false,
     "start_time": "2025-02-11T02:14:42.715244",
     "status": "completed"
    },
    "tags": []
   },
   "source": [
    "#### Before training:\n",
    "- Change the target value from binary categories to binary values\n",
    "- Drop gender"
   ]
  },
  {
   "cell_type": "code",
   "execution_count": 25,
   "id": "c90df21a",
   "metadata": {
    "execution": {
     "iopub.execute_input": "2025-02-11T02:14:42.769336Z",
     "iopub.status.busy": "2025-02-11T02:14:42.768761Z",
     "iopub.status.idle": "2025-02-11T02:14:42.792599Z",
     "shell.execute_reply": "2025-02-11T02:14:42.791194Z"
    },
    "papermill": {
     "duration": 0.045271,
     "end_time": "2025-02-11T02:14:42.795150",
     "exception": false,
     "start_time": "2025-02-11T02:14:42.749879",
     "status": "completed"
    },
    "tags": []
   },
   "outputs": [
    {
     "name": "stdout",
     "output_type": "stream",
     "text": [
      "<class 'pandas.core.frame.DataFrame'>\n",
      "Index: 7032 entries, 0 to 7042\n",
      "Data columns (total 19 columns):\n",
      " #   Column            Non-Null Count  Dtype  \n",
      "---  ------            --------------  -----  \n",
      " 0   SeniorCitizen     7032 non-null   int64  \n",
      " 1   Partner           7032 non-null   object \n",
      " 2   Dependents        7032 non-null   object \n",
      " 3   tenure            7032 non-null   int64  \n",
      " 4   PhoneService      7032 non-null   object \n",
      " 5   MultipleLines     7032 non-null   object \n",
      " 6   InternetService   7032 non-null   object \n",
      " 7   OnlineSecurity    7032 non-null   object \n",
      " 8   OnlineBackup      7032 non-null   object \n",
      " 9   DeviceProtection  7032 non-null   object \n",
      " 10  TechSupport       7032 non-null   object \n",
      " 11  StreamingTV       7032 non-null   object \n",
      " 12  StreamingMovies   7032 non-null   object \n",
      " 13  Contract          7032 non-null   object \n",
      " 14  PaperlessBilling  7032 non-null   object \n",
      " 15  PaymentMethod     7032 non-null   object \n",
      " 16  MonthlyCharges    7032 non-null   float64\n",
      " 17  TotalCharges      7032 non-null   float64\n",
      " 18  Churn             7032 non-null   int64  \n",
      "dtypes: float64(2), int64(3), object(14)\n",
      "memory usage: 1.1+ MB\n"
     ]
    }
   ],
   "source": [
    "df['Churn']=df['Churn'].map({'Yes':1,'No':0})\n",
    "df.drop('gender',axis=1,inplace=True)\n",
    "df.info()"
   ]
  },
  {
   "cell_type": "code",
   "execution_count": 26,
   "id": "ca980420",
   "metadata": {
    "execution": {
     "iopub.execute_input": "2025-02-11T02:14:42.833906Z",
     "iopub.status.busy": "2025-02-11T02:14:42.833521Z",
     "iopub.status.idle": "2025-02-11T02:14:42.840444Z",
     "shell.execute_reply": "2025-02-11T02:14:42.839308Z"
    },
    "papermill": {
     "duration": 0.028579,
     "end_time": "2025-02-11T02:14:42.842606",
     "exception": false,
     "start_time": "2025-02-11T02:14:42.814027",
     "status": "completed"
    },
    "tags": []
   },
   "outputs": [
    {
     "data": {
      "text/plain": [
       "(7032, 19)"
      ]
     },
     "execution_count": 26,
     "metadata": {},
     "output_type": "execute_result"
    }
   ],
   "source": [
    "df.shape"
   ]
  },
  {
   "cell_type": "markdown",
   "id": "033f635c",
   "metadata": {
    "papermill": {
     "duration": 0.017349,
     "end_time": "2025-02-11T02:14:42.877493",
     "exception": false,
     "start_time": "2025-02-11T02:14:42.860144",
     "status": "completed"
    },
    "tags": []
   },
   "source": [
    "# Model training: Logistic regression"
   ]
  },
  {
   "cell_type": "code",
   "execution_count": 27,
   "id": "cc14cde5",
   "metadata": {
    "execution": {
     "iopub.execute_input": "2025-02-11T02:14:42.914482Z",
     "iopub.status.busy": "2025-02-11T02:14:42.913676Z",
     "iopub.status.idle": "2025-02-11T02:14:42.929336Z",
     "shell.execute_reply": "2025-02-11T02:14:42.928242Z"
    },
    "papermill": {
     "duration": 0.037119,
     "end_time": "2025-02-11T02:14:42.931970",
     "exception": false,
     "start_time": "2025-02-11T02:14:42.894851",
     "status": "completed"
    },
    "tags": []
   },
   "outputs": [],
   "source": [
    "train_set,val_set = train_test_split(df,test_size=0.3,random_state=12,stratify=df['Churn'])\n",
    "val_set,test_set = train_test_split(val_set,test_size=0.1,random_state=12,stratify=val_set['Churn'])"
   ]
  },
  {
   "cell_type": "code",
   "execution_count": 28,
   "id": "e88bc42b",
   "metadata": {
    "execution": {
     "iopub.execute_input": "2025-02-11T02:14:42.970161Z",
     "iopub.status.busy": "2025-02-11T02:14:42.969781Z",
     "iopub.status.idle": "2025-02-11T02:14:42.976620Z",
     "shell.execute_reply": "2025-02-11T02:14:42.975428Z"
    },
    "papermill": {
     "duration": 0.028317,
     "end_time": "2025-02-11T02:14:42.978688",
     "exception": false,
     "start_time": "2025-02-11T02:14:42.950371",
     "status": "completed"
    },
    "tags": []
   },
   "outputs": [
    {
     "data": {
      "text/plain": [
       "((4922, 19), (1899, 19), (211, 19))"
      ]
     },
     "execution_count": 28,
     "metadata": {},
     "output_type": "execute_result"
    }
   ],
   "source": [
    "train_set.shape, val_set.shape, test_set.shape"
   ]
  },
  {
   "cell_type": "code",
   "execution_count": 29,
   "id": "ff183966",
   "metadata": {
    "execution": {
     "iopub.execute_input": "2025-02-11T02:14:43.017128Z",
     "iopub.status.busy": "2025-02-11T02:14:43.016775Z",
     "iopub.status.idle": "2025-02-11T02:14:43.029347Z",
     "shell.execute_reply": "2025-02-11T02:14:43.028197Z"
    },
    "papermill": {
     "duration": 0.034609,
     "end_time": "2025-02-11T02:14:43.031771",
     "exception": false,
     "start_time": "2025-02-11T02:14:42.997162",
     "status": "completed"
    },
    "tags": []
   },
   "outputs": [],
   "source": [
    "X_train = train_set.drop('Churn',axis=1)\n",
    "y_train= train_set.Churn\n",
    "X_val = val_set.drop('Churn',axis=1)\n",
    "y_val = val_set.Churn\n",
    "X_test = test_set.drop('Churn',axis=1)\n",
    "y_test = test_set.Churn"
   ]
  },
  {
   "cell_type": "markdown",
   "id": "30469235",
   "metadata": {
    "papermill": {
     "duration": 0.017603,
     "end_time": "2025-02-11T02:14:43.067635",
     "exception": false,
     "start_time": "2025-02-11T02:14:43.050032",
     "status": "completed"
    },
    "tags": []
   },
   "source": [
    "### Preprocessing"
   ]
  },
  {
   "cell_type": "code",
   "execution_count": 30,
   "id": "59d0642a",
   "metadata": {
    "execution": {
     "iopub.execute_input": "2025-02-11T02:14:43.106162Z",
     "iopub.status.busy": "2025-02-11T02:14:43.105827Z",
     "iopub.status.idle": "2025-02-11T02:14:43.118380Z",
     "shell.execute_reply": "2025-02-11T02:14:43.117168Z"
    },
    "papermill": {
     "duration": 0.034121,
     "end_time": "2025-02-11T02:14:43.120867",
     "exception": false,
     "start_time": "2025-02-11T02:14:43.086746",
     "status": "completed"
    },
    "tags": []
   },
   "outputs": [],
   "source": [
    "ohe= OneHotEncoder(handle_unknown='ignore',drop='first')\n",
    "scaler = MinMaxScaler()\n",
    "obj_col = df.select_dtypes(include='object').columns\n",
    "num_col=['tenure','MonthlyCharges','TotalCharges']\n",
    "ct = make_column_transformer((ohe,obj_col),(scaler,num_col),remainder='passthrough')"
   ]
  },
  {
   "cell_type": "markdown",
   "id": "0f45b9d7",
   "metadata": {
    "papermill": {
     "duration": 0.017635,
     "end_time": "2025-02-11T02:14:43.156092",
     "exception": false,
     "start_time": "2025-02-11T02:14:43.138457",
     "status": "completed"
    },
    "tags": []
   },
   "source": [
    "### Training"
   ]
  },
  {
   "cell_type": "code",
   "execution_count": 31,
   "id": "c7273e57",
   "metadata": {
    "execution": {
     "iopub.execute_input": "2025-02-11T02:14:43.192875Z",
     "iopub.status.busy": "2025-02-11T02:14:43.192537Z",
     "iopub.status.idle": "2025-02-11T02:14:43.360558Z",
     "shell.execute_reply": "2025-02-11T02:14:43.358605Z"
    },
    "papermill": {
     "duration": 0.190615,
     "end_time": "2025-02-11T02:14:43.364286",
     "exception": false,
     "start_time": "2025-02-11T02:14:43.173671",
     "status": "completed"
    },
    "tags": []
   },
   "outputs": [
    {
     "data": {
      "text/html": [
       "<style>#sk-container-id-1 {color: black;background-color: white;}#sk-container-id-1 pre{padding: 0;}#sk-container-id-1 div.sk-toggleable {background-color: white;}#sk-container-id-1 label.sk-toggleable__label {cursor: pointer;display: block;width: 100%;margin-bottom: 0;padding: 0.3em;box-sizing: border-box;text-align: center;}#sk-container-id-1 label.sk-toggleable__label-arrow:before {content: \"▸\";float: left;margin-right: 0.25em;color: #696969;}#sk-container-id-1 label.sk-toggleable__label-arrow:hover:before {color: black;}#sk-container-id-1 div.sk-estimator:hover label.sk-toggleable__label-arrow:before {color: black;}#sk-container-id-1 div.sk-toggleable__content {max-height: 0;max-width: 0;overflow: hidden;text-align: left;background-color: #f0f8ff;}#sk-container-id-1 div.sk-toggleable__content pre {margin: 0.2em;color: black;border-radius: 0.25em;background-color: #f0f8ff;}#sk-container-id-1 input.sk-toggleable__control:checked~div.sk-toggleable__content {max-height: 200px;max-width: 100%;overflow: auto;}#sk-container-id-1 input.sk-toggleable__control:checked~label.sk-toggleable__label-arrow:before {content: \"▾\";}#sk-container-id-1 div.sk-estimator input.sk-toggleable__control:checked~label.sk-toggleable__label {background-color: #d4ebff;}#sk-container-id-1 div.sk-label input.sk-toggleable__control:checked~label.sk-toggleable__label {background-color: #d4ebff;}#sk-container-id-1 input.sk-hidden--visually {border: 0;clip: rect(1px 1px 1px 1px);clip: rect(1px, 1px, 1px, 1px);height: 1px;margin: -1px;overflow: hidden;padding: 0;position: absolute;width: 1px;}#sk-container-id-1 div.sk-estimator {font-family: monospace;background-color: #f0f8ff;border: 1px dotted black;border-radius: 0.25em;box-sizing: border-box;margin-bottom: 0.5em;}#sk-container-id-1 div.sk-estimator:hover {background-color: #d4ebff;}#sk-container-id-1 div.sk-parallel-item::after {content: \"\";width: 100%;border-bottom: 1px solid gray;flex-grow: 1;}#sk-container-id-1 div.sk-label:hover label.sk-toggleable__label {background-color: #d4ebff;}#sk-container-id-1 div.sk-serial::before {content: \"\";position: absolute;border-left: 1px solid gray;box-sizing: border-box;top: 0;bottom: 0;left: 50%;z-index: 0;}#sk-container-id-1 div.sk-serial {display: flex;flex-direction: column;align-items: center;background-color: white;padding-right: 0.2em;padding-left: 0.2em;position: relative;}#sk-container-id-1 div.sk-item {position: relative;z-index: 1;}#sk-container-id-1 div.sk-parallel {display: flex;align-items: stretch;justify-content: center;background-color: white;position: relative;}#sk-container-id-1 div.sk-item::before, #sk-container-id-1 div.sk-parallel-item::before {content: \"\";position: absolute;border-left: 1px solid gray;box-sizing: border-box;top: 0;bottom: 0;left: 50%;z-index: -1;}#sk-container-id-1 div.sk-parallel-item {display: flex;flex-direction: column;z-index: 1;position: relative;background-color: white;}#sk-container-id-1 div.sk-parallel-item:first-child::after {align-self: flex-end;width: 50%;}#sk-container-id-1 div.sk-parallel-item:last-child::after {align-self: flex-start;width: 50%;}#sk-container-id-1 div.sk-parallel-item:only-child::after {width: 0;}#sk-container-id-1 div.sk-dashed-wrapped {border: 1px dashed gray;margin: 0 0.4em 0.5em 0.4em;box-sizing: border-box;padding-bottom: 0.4em;background-color: white;}#sk-container-id-1 div.sk-label label {font-family: monospace;font-weight: bold;display: inline-block;line-height: 1.2em;}#sk-container-id-1 div.sk-label-container {text-align: center;}#sk-container-id-1 div.sk-container {/* jupyter's `normalize.less` sets `[hidden] { display: none; }` but bootstrap.min.css set `[hidden] { display: none !important; }` so we also need the `!important` here to be able to override the default hidden behavior on the sphinx rendered scikit-learn.org. See: https://github.com/scikit-learn/scikit-learn/issues/21755 */display: inline-block !important;position: relative;}#sk-container-id-1 div.sk-text-repr-fallback {display: none;}</style><div id=\"sk-container-id-1\" class=\"sk-top-container\"><div class=\"sk-text-repr-fallback\"><pre>Pipeline(steps=[(&#x27;prep&#x27;,\n",
       "                 ColumnTransformer(remainder=&#x27;passthrough&#x27;,\n",
       "                                   transformers=[(&#x27;onehotencoder&#x27;,\n",
       "                                                  OneHotEncoder(drop=&#x27;first&#x27;,\n",
       "                                                                handle_unknown=&#x27;ignore&#x27;),\n",
       "                                                  Index([&#x27;Partner&#x27;, &#x27;Dependents&#x27;, &#x27;PhoneService&#x27;, &#x27;MultipleLines&#x27;,\n",
       "       &#x27;InternetService&#x27;, &#x27;OnlineSecurity&#x27;, &#x27;OnlineBackup&#x27;, &#x27;DeviceProtection&#x27;,\n",
       "       &#x27;TechSupport&#x27;, &#x27;StreamingTV&#x27;, &#x27;StreamingMovies&#x27;, &#x27;Contract&#x27;,\n",
       "       &#x27;PaperlessBilling&#x27;, &#x27;PaymentMethod&#x27;],\n",
       "      dtype=&#x27;object&#x27;)),\n",
       "                                                 (&#x27;minmaxscaler&#x27;,\n",
       "                                                  MinMaxScaler(),\n",
       "                                                  [&#x27;tenure&#x27;, &#x27;MonthlyCharges&#x27;,\n",
       "                                                   &#x27;TotalCharges&#x27;])])),\n",
       "                (&#x27;tr&#x27;, LogisticRegression(random_state=0))])</pre><b>In a Jupyter environment, please rerun this cell to show the HTML representation or trust the notebook. <br />On GitHub, the HTML representation is unable to render, please try loading this page with nbviewer.org.</b></div><div class=\"sk-container\" hidden><div class=\"sk-item sk-dashed-wrapped\"><div class=\"sk-label-container\"><div class=\"sk-label sk-toggleable\"><input class=\"sk-toggleable__control sk-hidden--visually\" id=\"sk-estimator-id-1\" type=\"checkbox\" ><label for=\"sk-estimator-id-1\" class=\"sk-toggleable__label sk-toggleable__label-arrow\">Pipeline</label><div class=\"sk-toggleable__content\"><pre>Pipeline(steps=[(&#x27;prep&#x27;,\n",
       "                 ColumnTransformer(remainder=&#x27;passthrough&#x27;,\n",
       "                                   transformers=[(&#x27;onehotencoder&#x27;,\n",
       "                                                  OneHotEncoder(drop=&#x27;first&#x27;,\n",
       "                                                                handle_unknown=&#x27;ignore&#x27;),\n",
       "                                                  Index([&#x27;Partner&#x27;, &#x27;Dependents&#x27;, &#x27;PhoneService&#x27;, &#x27;MultipleLines&#x27;,\n",
       "       &#x27;InternetService&#x27;, &#x27;OnlineSecurity&#x27;, &#x27;OnlineBackup&#x27;, &#x27;DeviceProtection&#x27;,\n",
       "       &#x27;TechSupport&#x27;, &#x27;StreamingTV&#x27;, &#x27;StreamingMovies&#x27;, &#x27;Contract&#x27;,\n",
       "       &#x27;PaperlessBilling&#x27;, &#x27;PaymentMethod&#x27;],\n",
       "      dtype=&#x27;object&#x27;)),\n",
       "                                                 (&#x27;minmaxscaler&#x27;,\n",
       "                                                  MinMaxScaler(),\n",
       "                                                  [&#x27;tenure&#x27;, &#x27;MonthlyCharges&#x27;,\n",
       "                                                   &#x27;TotalCharges&#x27;])])),\n",
       "                (&#x27;tr&#x27;, LogisticRegression(random_state=0))])</pre></div></div></div><div class=\"sk-serial\"><div class=\"sk-item sk-dashed-wrapped\"><div class=\"sk-label-container\"><div class=\"sk-label sk-toggleable\"><input class=\"sk-toggleable__control sk-hidden--visually\" id=\"sk-estimator-id-2\" type=\"checkbox\" ><label for=\"sk-estimator-id-2\" class=\"sk-toggleable__label sk-toggleable__label-arrow\">prep: ColumnTransformer</label><div class=\"sk-toggleable__content\"><pre>ColumnTransformer(remainder=&#x27;passthrough&#x27;,\n",
       "                  transformers=[(&#x27;onehotencoder&#x27;,\n",
       "                                 OneHotEncoder(drop=&#x27;first&#x27;,\n",
       "                                               handle_unknown=&#x27;ignore&#x27;),\n",
       "                                 Index([&#x27;Partner&#x27;, &#x27;Dependents&#x27;, &#x27;PhoneService&#x27;, &#x27;MultipleLines&#x27;,\n",
       "       &#x27;InternetService&#x27;, &#x27;OnlineSecurity&#x27;, &#x27;OnlineBackup&#x27;, &#x27;DeviceProtection&#x27;,\n",
       "       &#x27;TechSupport&#x27;, &#x27;StreamingTV&#x27;, &#x27;StreamingMovies&#x27;, &#x27;Contract&#x27;,\n",
       "       &#x27;PaperlessBilling&#x27;, &#x27;PaymentMethod&#x27;],\n",
       "      dtype=&#x27;object&#x27;)),\n",
       "                                (&#x27;minmaxscaler&#x27;, MinMaxScaler(),\n",
       "                                 [&#x27;tenure&#x27;, &#x27;MonthlyCharges&#x27;, &#x27;TotalCharges&#x27;])])</pre></div></div></div><div class=\"sk-parallel\"><div class=\"sk-parallel-item\"><div class=\"sk-item\"><div class=\"sk-label-container\"><div class=\"sk-label sk-toggleable\"><input class=\"sk-toggleable__control sk-hidden--visually\" id=\"sk-estimator-id-3\" type=\"checkbox\" ><label for=\"sk-estimator-id-3\" class=\"sk-toggleable__label sk-toggleable__label-arrow\">onehotencoder</label><div class=\"sk-toggleable__content\"><pre>Index([&#x27;Partner&#x27;, &#x27;Dependents&#x27;, &#x27;PhoneService&#x27;, &#x27;MultipleLines&#x27;,\n",
       "       &#x27;InternetService&#x27;, &#x27;OnlineSecurity&#x27;, &#x27;OnlineBackup&#x27;, &#x27;DeviceProtection&#x27;,\n",
       "       &#x27;TechSupport&#x27;, &#x27;StreamingTV&#x27;, &#x27;StreamingMovies&#x27;, &#x27;Contract&#x27;,\n",
       "       &#x27;PaperlessBilling&#x27;, &#x27;PaymentMethod&#x27;],\n",
       "      dtype=&#x27;object&#x27;)</pre></div></div></div><div class=\"sk-serial\"><div class=\"sk-item\"><div class=\"sk-estimator sk-toggleable\"><input class=\"sk-toggleable__control sk-hidden--visually\" id=\"sk-estimator-id-4\" type=\"checkbox\" ><label for=\"sk-estimator-id-4\" class=\"sk-toggleable__label sk-toggleable__label-arrow\">OneHotEncoder</label><div class=\"sk-toggleable__content\"><pre>OneHotEncoder(drop=&#x27;first&#x27;, handle_unknown=&#x27;ignore&#x27;)</pre></div></div></div></div></div></div><div class=\"sk-parallel-item\"><div class=\"sk-item\"><div class=\"sk-label-container\"><div class=\"sk-label sk-toggleable\"><input class=\"sk-toggleable__control sk-hidden--visually\" id=\"sk-estimator-id-5\" type=\"checkbox\" ><label for=\"sk-estimator-id-5\" class=\"sk-toggleable__label sk-toggleable__label-arrow\">minmaxscaler</label><div class=\"sk-toggleable__content\"><pre>[&#x27;tenure&#x27;, &#x27;MonthlyCharges&#x27;, &#x27;TotalCharges&#x27;]</pre></div></div></div><div class=\"sk-serial\"><div class=\"sk-item\"><div class=\"sk-estimator sk-toggleable\"><input class=\"sk-toggleable__control sk-hidden--visually\" id=\"sk-estimator-id-6\" type=\"checkbox\" ><label for=\"sk-estimator-id-6\" class=\"sk-toggleable__label sk-toggleable__label-arrow\">MinMaxScaler</label><div class=\"sk-toggleable__content\"><pre>MinMaxScaler()</pre></div></div></div></div></div></div><div class=\"sk-parallel-item\"><div class=\"sk-item\"><div class=\"sk-label-container\"><div class=\"sk-label sk-toggleable\"><input class=\"sk-toggleable__control sk-hidden--visually\" id=\"sk-estimator-id-7\" type=\"checkbox\" ><label for=\"sk-estimator-id-7\" class=\"sk-toggleable__label sk-toggleable__label-arrow\">remainder</label><div class=\"sk-toggleable__content\"><pre>[&#x27;SeniorCitizen&#x27;]</pre></div></div></div><div class=\"sk-serial\"><div class=\"sk-item\"><div class=\"sk-estimator sk-toggleable\"><input class=\"sk-toggleable__control sk-hidden--visually\" id=\"sk-estimator-id-8\" type=\"checkbox\" ><label for=\"sk-estimator-id-8\" class=\"sk-toggleable__label sk-toggleable__label-arrow\">passthrough</label><div class=\"sk-toggleable__content\"><pre>passthrough</pre></div></div></div></div></div></div></div></div><div class=\"sk-item\"><div class=\"sk-estimator sk-toggleable\"><input class=\"sk-toggleable__control sk-hidden--visually\" id=\"sk-estimator-id-9\" type=\"checkbox\" ><label for=\"sk-estimator-id-9\" class=\"sk-toggleable__label sk-toggleable__label-arrow\">LogisticRegression</label><div class=\"sk-toggleable__content\"><pre>LogisticRegression(random_state=0)</pre></div></div></div></div></div></div></div>"
      ],
      "text/plain": [
       "Pipeline(steps=[('prep',\n",
       "                 ColumnTransformer(remainder='passthrough',\n",
       "                                   transformers=[('onehotencoder',\n",
       "                                                  OneHotEncoder(drop='first',\n",
       "                                                                handle_unknown='ignore'),\n",
       "                                                  Index(['Partner', 'Dependents', 'PhoneService', 'MultipleLines',\n",
       "       'InternetService', 'OnlineSecurity', 'OnlineBackup', 'DeviceProtection',\n",
       "       'TechSupport', 'StreamingTV', 'StreamingMovies', 'Contract',\n",
       "       'PaperlessBilling', 'PaymentMethod'],\n",
       "      dtype='object')),\n",
       "                                                 ('minmaxscaler',\n",
       "                                                  MinMaxScaler(),\n",
       "                                                  ['tenure', 'MonthlyCharges',\n",
       "                                                   'TotalCharges'])])),\n",
       "                ('tr', LogisticRegression(random_state=0))])"
      ]
     },
     "execution_count": 31,
     "metadata": {},
     "output_type": "execute_result"
    }
   ],
   "source": [
    "lr_pipe=Pipeline(steps=[\n",
    "    ('prep',ct),('tr',LogisticRegression(random_state=0))\n",
    "])\n",
    "lr_pipe.fit(X_train,y_train)"
   ]
  },
  {
   "cell_type": "code",
   "execution_count": 32,
   "id": "29f767d0",
   "metadata": {
    "execution": {
     "iopub.execute_input": "2025-02-11T02:14:43.434945Z",
     "iopub.status.busy": "2025-02-11T02:14:43.434594Z",
     "iopub.status.idle": "2025-02-11T02:14:43.440775Z",
     "shell.execute_reply": "2025-02-11T02:14:43.439634Z"
    },
    "papermill": {
     "duration": 0.029311,
     "end_time": "2025-02-11T02:14:43.443048",
     "exception": false,
     "start_time": "2025-02-11T02:14:43.413737",
     "status": "completed"
    },
    "tags": []
   },
   "outputs": [],
   "source": [
    "def training_report(model):\n",
    "    y_pred = model.predict(X_train)\n",
    "    train_acc = accuracy_score(y_pred,y_train)\n",
    "    val_acc = model.score(X_val,y_val)\n",
    "    y_pred_val = model.predict(X_val)\n",
    "    cl_rep = classification_report(y_val,y_pred_val)\n",
    "    print(f'Training Accuracy: {train_acc:.3f}')\n",
    "    print(f'Validation Accuracy: {val_acc:.3f}')\n",
    "    print(cl_rep)"
   ]
  },
  {
   "cell_type": "code",
   "execution_count": 33,
   "id": "6e6f16cd",
   "metadata": {
    "execution": {
     "iopub.execute_input": "2025-02-11T02:14:43.482732Z",
     "iopub.status.busy": "2025-02-11T02:14:43.482376Z",
     "iopub.status.idle": "2025-02-11T02:14:43.620459Z",
     "shell.execute_reply": "2025-02-11T02:14:43.618826Z"
    },
    "papermill": {
     "duration": 0.162264,
     "end_time": "2025-02-11T02:14:43.624394",
     "exception": false,
     "start_time": "2025-02-11T02:14:43.462130",
     "status": "completed"
    },
    "tags": []
   },
   "outputs": [
    {
     "name": "stdout",
     "output_type": "stream",
     "text": [
      "Training Accuracy: 0.808\n",
      "Validation Accuracy: 0.803\n",
      "              precision    recall  f1-score   support\n",
      "\n",
      "           0       0.84      0.90      0.87      1394\n",
      "           1       0.66      0.54      0.59       505\n",
      "\n",
      "    accuracy                           0.80      1899\n",
      "   macro avg       0.75      0.72      0.73      1899\n",
      "weighted avg       0.79      0.80      0.80      1899\n",
      "\n"
     ]
    }
   ],
   "source": [
    "training_report(lr_pipe)"
   ]
  },
  {
   "cell_type": "markdown",
   "id": "54d16a99",
   "metadata": {
    "papermill": {
     "duration": 0.047071,
     "end_time": "2025-02-11T02:14:43.722575",
     "exception": false,
     "start_time": "2025-02-11T02:14:43.675504",
     "status": "completed"
    },
    "tags": []
   },
   "source": [
    "## Down-sampling"
   ]
  },
  {
   "cell_type": "code",
   "execution_count": 34,
   "id": "3097da5a",
   "metadata": {
    "execution": {
     "iopub.execute_input": "2025-02-11T02:14:43.762303Z",
     "iopub.status.busy": "2025-02-11T02:14:43.761140Z",
     "iopub.status.idle": "2025-02-11T02:14:43.768391Z",
     "shell.execute_reply": "2025-02-11T02:14:43.767103Z"
    },
    "papermill": {
     "duration": 0.02916,
     "end_time": "2025-02-11T02:14:43.770517",
     "exception": false,
     "start_time": "2025-02-11T02:14:43.741357",
     "status": "completed"
    },
    "tags": []
   },
   "outputs": [
    {
     "name": "stdout",
     "output_type": "stream",
     "text": [
      "5163\n",
      "1869\n"
     ]
    }
   ],
   "source": [
    "count_class_0,count_class_1=df['Churn'].value_counts()\n",
    "print(count_class_0)\n",
    "print(count_class_1)"
   ]
  },
  {
   "cell_type": "code",
   "execution_count": 35,
   "id": "f5c1ba1f",
   "metadata": {
    "execution": {
     "iopub.execute_input": "2025-02-11T02:14:43.810092Z",
     "iopub.status.busy": "2025-02-11T02:14:43.809679Z",
     "iopub.status.idle": "2025-02-11T02:14:43.828315Z",
     "shell.execute_reply": "2025-02-11T02:14:43.826950Z"
    },
    "papermill": {
     "duration": 0.041542,
     "end_time": "2025-02-11T02:14:43.830706",
     "exception": false,
     "start_time": "2025-02-11T02:14:43.789164",
     "status": "completed"
    },
    "tags": []
   },
   "outputs": [
    {
     "name": "stdout",
     "output_type": "stream",
     "text": [
      "Downsmapled dataframe:\n"
     ]
    },
    {
     "data": {
      "text/plain": [
       "Churn\n",
       "0    1869\n",
       "1    1869\n",
       "Name: count, dtype: int64"
      ]
     },
     "execution_count": 35,
     "metadata": {},
     "output_type": "execute_result"
    }
   ],
   "source": [
    "df_class_0=df[df['Churn']==0]\n",
    "df_class_1=df[df['Churn']==1]\n",
    "df_class_0 =df_class_0.sample(count_class_1)\n",
    "df_under = pd.concat([df_class_0,df_class_1],axis=0)\n",
    "print('Downsmapled dataframe:')\n",
    "df_under['Churn'].value_counts()"
   ]
  },
  {
   "cell_type": "code",
   "execution_count": 36,
   "id": "d9f55154",
   "metadata": {
    "execution": {
     "iopub.execute_input": "2025-02-11T02:14:43.871255Z",
     "iopub.status.busy": "2025-02-11T02:14:43.870828Z",
     "iopub.status.idle": "2025-02-11T02:14:43.884406Z",
     "shell.execute_reply": "2025-02-11T02:14:43.883233Z"
    },
    "papermill": {
     "duration": 0.036447,
     "end_time": "2025-02-11T02:14:43.886808",
     "exception": false,
     "start_time": "2025-02-11T02:14:43.850361",
     "status": "completed"
    },
    "tags": []
   },
   "outputs": [],
   "source": [
    "train_set,val_set = train_test_split(df_under,test_size=0.3,random_state=12,stratify=df_under['Churn'])\n",
    "val_set,test_set = train_test_split(val_set,test_size=0.1,random_state=12,stratify=val_set['Churn'])"
   ]
  },
  {
   "cell_type": "code",
   "execution_count": 37,
   "id": "5e2146b3",
   "metadata": {
    "execution": {
     "iopub.execute_input": "2025-02-11T02:14:43.927928Z",
     "iopub.status.busy": "2025-02-11T02:14:43.927560Z",
     "iopub.status.idle": "2025-02-11T02:14:43.938168Z",
     "shell.execute_reply": "2025-02-11T02:14:43.937077Z"
    },
    "papermill": {
     "duration": 0.034916,
     "end_time": "2025-02-11T02:14:43.940525",
     "exception": false,
     "start_time": "2025-02-11T02:14:43.905609",
     "status": "completed"
    },
    "tags": []
   },
   "outputs": [],
   "source": [
    "X_train = train_set.drop('Churn',axis=1)\n",
    "y_train= train_set.Churn\n",
    "X_val = val_set.drop('Churn',axis=1)\n",
    "y_val = val_set.Churn\n",
    "X_test = test_set.drop('Churn',axis=1)\n",
    "y_test = test_set.Churn"
   ]
  },
  {
   "cell_type": "code",
   "execution_count": 38,
   "id": "04ce3425",
   "metadata": {
    "execution": {
     "iopub.execute_input": "2025-02-11T02:14:43.979932Z",
     "iopub.status.busy": "2025-02-11T02:14:43.979537Z",
     "iopub.status.idle": "2025-02-11T02:14:44.274909Z",
     "shell.execute_reply": "2025-02-11T02:14:44.273047Z"
    },
    "papermill": {
     "duration": 0.320296,
     "end_time": "2025-02-11T02:14:44.279655",
     "exception": false,
     "start_time": "2025-02-11T02:14:43.959359",
     "status": "completed"
    },
    "tags": []
   },
   "outputs": [
    {
     "name": "stdout",
     "output_type": "stream",
     "text": [
      "Training Accuracy: 0.769\n",
      "Validation Accuracy: 0.749\n",
      "              precision    recall  f1-score   support\n",
      "\n",
      "           0       0.78      0.70      0.74       505\n",
      "           1       0.73      0.80      0.76       504\n",
      "\n",
      "    accuracy                           0.75      1009\n",
      "   macro avg       0.75      0.75      0.75      1009\n",
      "weighted avg       0.75      0.75      0.75      1009\n",
      "\n"
     ]
    }
   ],
   "source": [
    "lr_pipe.fit(X_train,y_train)\n",
    "training_report(lr_pipe)"
   ]
  },
  {
   "cell_type": "markdown",
   "id": "684680fe",
   "metadata": {
    "papermill": {
     "duration": 0.047268,
     "end_time": "2025-02-11T02:14:44.378999",
     "exception": false,
     "start_time": "2025-02-11T02:14:44.331731",
     "status": "completed"
    },
    "tags": []
   },
   "source": [
    "## Over-sampling:SMOTE"
   ]
  },
  {
   "cell_type": "code",
   "execution_count": 39,
   "id": "20ecc45f",
   "metadata": {
    "execution": {
     "iopub.execute_input": "2025-02-11T02:14:44.419513Z",
     "iopub.status.busy": "2025-02-11T02:14:44.419101Z",
     "iopub.status.idle": "2025-02-11T02:14:44.546622Z",
     "shell.execute_reply": "2025-02-11T02:14:44.545745Z"
    },
    "papermill": {
     "duration": 0.151697,
     "end_time": "2025-02-11T02:14:44.550180",
     "exception": false,
     "start_time": "2025-02-11T02:14:44.398483",
     "status": "completed"
    },
    "tags": []
   },
   "outputs": [
    {
     "data": {
      "text/plain": [
       "Churn\n",
       "0    5163\n",
       "1    5163\n",
       "Name: count, dtype: int64"
      ]
     },
     "execution_count": 39,
     "metadata": {},
     "output_type": "execute_result"
    }
   ],
   "source": [
    "X = df.drop('Churn',axis=1)\n",
    "y=df.Churn\n",
    "smt=SMOTE(sampling_strategy='auto',random_state=5)\n",
    "X_transformed=ct.fit_transform(X,y)\n",
    "X_res,y_res=smt.fit_resample(X_transformed,y)\n",
    "y_res.value_counts()"
   ]
  },
  {
   "cell_type": "code",
   "execution_count": 40,
   "id": "24f8e9be",
   "metadata": {
    "execution": {
     "iopub.execute_input": "2025-02-11T02:14:44.591526Z",
     "iopub.status.busy": "2025-02-11T02:14:44.591072Z",
     "iopub.status.idle": "2025-02-11T02:14:44.605616Z",
     "shell.execute_reply": "2025-02-11T02:14:44.604378Z"
    },
    "papermill": {
     "duration": 0.038102,
     "end_time": "2025-02-11T02:14:44.608121",
     "exception": false,
     "start_time": "2025-02-11T02:14:44.570019",
     "status": "completed"
    },
    "tags": []
   },
   "outputs": [],
   "source": [
    "X_train,X_val,y_train,y_val=train_test_split(X_res,y_res,test_size=0.3,random_state=12,stratify=y_res)\n",
    "X_val,X_test,y_val,y_test=train_test_split(X_val,y_val,test_size=0.1,random_state=12,stratify=y_val)"
   ]
  },
  {
   "cell_type": "code",
   "execution_count": 41,
   "id": "7a0a47ba",
   "metadata": {
    "execution": {
     "iopub.execute_input": "2025-02-11T02:14:44.647976Z",
     "iopub.status.busy": "2025-02-11T02:14:44.647609Z",
     "iopub.status.idle": "2025-02-11T02:14:44.781635Z",
     "shell.execute_reply": "2025-02-11T02:14:44.779670Z"
    },
    "papermill": {
     "duration": 0.158347,
     "end_time": "2025-02-11T02:14:44.785701",
     "exception": false,
     "start_time": "2025-02-11T02:14:44.627354",
     "status": "completed"
    },
    "tags": []
   },
   "outputs": [
    {
     "name": "stdout",
     "output_type": "stream",
     "text": [
      "Training Accuracy: 0.777\n",
      "Validation Accuracy: 0.765\n",
      "              precision    recall  f1-score   support\n",
      "\n",
      "           0       0.79      0.72      0.75      1394\n",
      "           1       0.74      0.81      0.77      1394\n",
      "\n",
      "    accuracy                           0.76      2788\n",
      "   macro avg       0.77      0.76      0.76      2788\n",
      "weighted avg       0.77      0.76      0.76      2788\n",
      "\n"
     ]
    }
   ],
   "source": [
    "lr=LogisticRegression(random_state=0)\n",
    "lr.fit(X_train,y_train)\n",
    "training_report(lr)"
   ]
  },
  {
   "cell_type": "markdown",
   "id": "ac7bc30d",
   "metadata": {
    "papermill": {
     "duration": 0.04284,
     "end_time": "2025-02-11T02:14:44.882173",
     "exception": false,
     "start_time": "2025-02-11T02:14:44.839333",
     "status": "completed"
    },
    "tags": []
   },
   "source": [
    "## Over_sampling:ADASYN"
   ]
  },
  {
   "cell_type": "code",
   "execution_count": 42,
   "id": "17b81953",
   "metadata": {
    "execution": {
     "iopub.execute_input": "2025-02-11T02:14:44.922138Z",
     "iopub.status.busy": "2025-02-11T02:14:44.921761Z",
     "iopub.status.idle": "2025-02-11T02:14:45.041664Z",
     "shell.execute_reply": "2025-02-11T02:14:45.039090Z"
    },
    "papermill": {
     "duration": 0.142918,
     "end_time": "2025-02-11T02:14:45.044189",
     "exception": false,
     "start_time": "2025-02-11T02:14:44.901271",
     "status": "completed"
    },
    "tags": []
   },
   "outputs": [
    {
     "data": {
      "text/plain": [
       "Churn\n",
       "0    5163\n",
       "1    5040\n",
       "Name: count, dtype: int64"
      ]
     },
     "execution_count": 42,
     "metadata": {},
     "output_type": "execute_result"
    }
   ],
   "source": [
    "X = df.drop('Churn',axis=1)\n",
    "y=df.Churn\n",
    "smt=ADASYN(sampling_strategy='auto',random_state=5)\n",
    "X_transformed=ct.fit_transform(X,y)\n",
    "X_res,y_res=smt.fit_resample(X_transformed,y)\n",
    "y_res.value_counts()"
   ]
  },
  {
   "cell_type": "code",
   "execution_count": 43,
   "id": "8abf2dae",
   "metadata": {
    "execution": {
     "iopub.execute_input": "2025-02-11T02:14:45.086123Z",
     "iopub.status.busy": "2025-02-11T02:14:45.085670Z",
     "iopub.status.idle": "2025-02-11T02:14:45.101129Z",
     "shell.execute_reply": "2025-02-11T02:14:45.099938Z"
    },
    "papermill": {
     "duration": 0.039581,
     "end_time": "2025-02-11T02:14:45.103693",
     "exception": false,
     "start_time": "2025-02-11T02:14:45.064112",
     "status": "completed"
    },
    "tags": []
   },
   "outputs": [],
   "source": [
    "X_train,X_val,y_train,y_val=train_test_split(X_res,y_res,test_size=0.3,random_state=12,stratify=y_res)\n",
    "X_val,X_test,y_val,y_test=train_test_split(X_val,y_val,test_size=0.1,random_state=12,stratify=y_val)"
   ]
  },
  {
   "cell_type": "code",
   "execution_count": 44,
   "id": "82433885",
   "metadata": {
    "execution": {
     "iopub.execute_input": "2025-02-11T02:14:45.143689Z",
     "iopub.status.busy": "2025-02-11T02:14:45.143299Z",
     "iopub.status.idle": "2025-02-11T02:14:45.254219Z",
     "shell.execute_reply": "2025-02-11T02:14:45.252189Z"
    },
    "papermill": {
     "duration": 0.135301,
     "end_time": "2025-02-11T02:14:45.258164",
     "exception": false,
     "start_time": "2025-02-11T02:14:45.122863",
     "status": "completed"
    },
    "tags": []
   },
   "outputs": [
    {
     "name": "stdout",
     "output_type": "stream",
     "text": [
      "Training Accuracy: 0.752\n",
      "Validation Accuracy: 0.735\n",
      "              precision    recall  f1-score   support\n",
      "\n",
      "           0       0.77      0.68      0.72      1394\n",
      "           1       0.71      0.79      0.75      1360\n",
      "\n",
      "    accuracy                           0.73      2754\n",
      "   macro avg       0.74      0.74      0.73      2754\n",
      "weighted avg       0.74      0.73      0.73      2754\n",
      "\n"
     ]
    }
   ],
   "source": [
    "lr.fit(X_train,y_train)\n",
    "training_report(lr)"
   ]
  },
  {
   "cell_type": "markdown",
   "id": "12b38cff",
   "metadata": {
    "papermill": {
     "duration": 0.047241,
     "end_time": "2025-02-11T02:14:45.359353",
     "exception": false,
     "start_time": "2025-02-11T02:14:45.312112",
     "status": "completed"
    },
    "tags": []
   },
   "source": [
    "# Model training: XGBoost"
   ]
  },
  {
   "cell_type": "code",
   "execution_count": 45,
   "id": "06251be4",
   "metadata": {
    "execution": {
     "iopub.execute_input": "2025-02-11T02:14:45.407888Z",
     "iopub.status.busy": "2025-02-11T02:14:45.407509Z",
     "iopub.status.idle": "2025-02-11T02:14:45.787016Z",
     "shell.execute_reply": "2025-02-11T02:14:45.784413Z"
    },
    "papermill": {
     "duration": 0.40293,
     "end_time": "2025-02-11T02:14:45.789623",
     "exception": false,
     "start_time": "2025-02-11T02:14:45.386693",
     "status": "completed"
    },
    "tags": []
   },
   "outputs": [
    {
     "name": "stdout",
     "output_type": "stream",
     "text": [
      "Training Accuracy: 0.947\n",
      "Validation Accuracy: 0.835\n",
      "              precision    recall  f1-score   support\n",
      "\n",
      "           0       0.83      0.84      0.84      1394\n",
      "           1       0.84      0.83      0.83      1394\n",
      "\n",
      "    accuracy                           0.84      2788\n",
      "   macro avg       0.84      0.84      0.84      2788\n",
      "weighted avg       0.84      0.84      0.84      2788\n",
      "\n"
     ]
    }
   ],
   "source": [
    "X = df.drop('Churn',axis=1)\n",
    "y=df.Churn\n",
    "smt=SMOTE(sampling_strategy='auto',random_state=5)\n",
    "X_transformed=ct.fit_transform(X,y)\n",
    "X_res,y_res=smt.fit_resample(X_transformed,y)\n",
    "X_train,X_val,y_train,y_val=train_test_split(X_res,y_res,test_size=0.3,random_state=12,stratify=y_res)\n",
    "X_val,X_test,y_val,y_test=train_test_split(X_val,y_val,test_size=0.1,random_state=12,stratify=y_val)\n",
    "xgb=XGBClassifier()\n",
    "xgb.fit(X_train,y_train)\n",
    "training_report(xgb)"
   ]
  },
  {
   "cell_type": "markdown",
   "id": "57c90de8",
   "metadata": {
    "papermill": {
     "duration": 0.019084,
     "end_time": "2025-02-11T02:14:45.827780",
     "exception": false,
     "start_time": "2025-02-11T02:14:45.808696",
     "status": "completed"
    },
    "tags": []
   },
   "source": [
    "# XGBoost fine tuning"
   ]
  },
  {
   "cell_type": "code",
   "execution_count": 46,
   "id": "05369cf6",
   "metadata": {
    "execution": {
     "iopub.execute_input": "2025-02-11T02:14:45.869651Z",
     "iopub.status.busy": "2025-02-11T02:14:45.869291Z",
     "iopub.status.idle": "2025-02-11T02:14:45.877397Z",
     "shell.execute_reply": "2025-02-11T02:14:45.875992Z"
    },
    "papermill": {
     "duration": 0.032249,
     "end_time": "2025-02-11T02:14:45.879569",
     "exception": false,
     "start_time": "2025-02-11T02:14:45.847320",
     "status": "completed"
    },
    "tags": []
   },
   "outputs": [],
   "source": [
    "def tuner_function(model):\n",
    "    tuning_params={\n",
    "    'n_estimators': [100, 200, 300, 400, 500],\n",
    "    'learning_rate': [0.01, 0.05, 0.1, 0.2],\n",
    "    'max_depth': [3, 4, 5, 6, 7],\n",
    "    'min_child_weight': [1, 3, 5, 7],\n",
    "    'gamma': [0, 0.1, 0.2, 0.3],\n",
    "    'subsample': [0.6, 0.7, 0.8, 0.9, 1.0],\n",
    "    'colsample_bytree': [0.6, 0.7, 0.8, 0.9, 1.0],\n",
    "    'reg_alpha': [0, 0.01, 0.1, 1],\n",
    "    'reg_lambda': [0, 0.01, 0.1, 1]\n",
    "    }\n",
    "    scoring = {'accuracy', 'precision', 'recall', 'f1'}\n",
    "    tuned_model=RandomizedSearchCV(model,param_distributions=tuning_params,scoring=scoring,cv=5,refit='f1')\n",
    "    tuned_model.fit(X_train,y_train)\n",
    "    print('Tuned model best parameters: {}'.format(tuned_model.best_params_))\n",
    "    print('Tuned model best score: ',\"%0.2f\"%tuned_model.best_score_)\n",
    "   \n",
    "    training_report(tuned_model)\n",
    "    return tuned_model\n",
    "   "
   ]
  },
  {
   "cell_type": "code",
   "execution_count": 47,
   "id": "c521a4f4",
   "metadata": {
    "execution": {
     "iopub.execute_input": "2025-02-11T02:14:45.920289Z",
     "iopub.status.busy": "2025-02-11T02:14:45.919909Z",
     "iopub.status.idle": "2025-02-11T02:15:02.191293Z",
     "shell.execute_reply": "2025-02-11T02:15:02.190162Z"
    },
    "papermill": {
     "duration": 16.295217,
     "end_time": "2025-02-11T02:15:02.194025",
     "exception": false,
     "start_time": "2025-02-11T02:14:45.898808",
     "status": "completed"
    },
    "tags": []
   },
   "outputs": [
    {
     "name": "stdout",
     "output_type": "stream",
     "text": [
      "Tuned model best parameters: {'subsample': 0.9, 'reg_lambda': 0.1, 'reg_alpha': 1, 'n_estimators': 200, 'min_child_weight': 3, 'max_depth': 5, 'learning_rate': 0.05, 'gamma': 0, 'colsample_bytree': 0.9}\n",
      "Tuned model best score:  0.85\n",
      "Training Accuracy: 0.877\n",
      "Validation Accuracy: 0.834\n",
      "              precision    recall  f1-score   support\n",
      "\n",
      "           0       0.84      0.82      0.83      1394\n",
      "           1       0.82      0.85      0.83      1394\n",
      "\n",
      "    accuracy                           0.83      2788\n",
      "   macro avg       0.83      0.83      0.83      2788\n",
      "weighted avg       0.83      0.83      0.83      2788\n",
      "\n"
     ]
    }
   ],
   "source": [
    "final_model=tuner_function(xgb)"
   ]
  },
  {
   "cell_type": "markdown",
   "id": "81e7fb07",
   "metadata": {
    "papermill": {
     "duration": 0.020671,
     "end_time": "2025-02-11T02:15:02.234502",
     "exception": false,
     "start_time": "2025-02-11T02:15:02.213831",
     "status": "completed"
    },
    "tags": []
   },
   "source": [
    "# Saving the final model"
   ]
  },
  {
   "cell_type": "code",
   "execution_count": 48,
   "id": "cedbd66b",
   "metadata": {
    "execution": {
     "iopub.execute_input": "2025-02-11T02:15:02.276192Z",
     "iopub.status.busy": "2025-02-11T02:15:02.275636Z",
     "iopub.status.idle": "2025-02-11T02:15:02.292745Z",
     "shell.execute_reply": "2025-02-11T02:15:02.290126Z"
    },
    "papermill": {
     "duration": 0.041467,
     "end_time": "2025-02-11T02:15:02.295558",
     "exception": false,
     "start_time": "2025-02-11T02:15:02.254091",
     "status": "completed"
    },
    "tags": []
   },
   "outputs": [
    {
     "name": "stdout",
     "output_type": "stream",
     "text": [
      "Model saved to /kaggle/working/final_model.pkl\n"
     ]
    }
   ],
   "source": [
    "import os\n",
    "import pickle\n",
    "file_name='final_model.pkl'\n",
    "directory='/kaggle/working/'\n",
    "file_path=os.path.join(directory,file_name)\n",
    "with open(file_path, 'wb') as file:\n",
    "     pickle.dump(final_model, file)\n",
    "print(f'Model saved to {file_path}')"
   ]
  },
  {
   "cell_type": "markdown",
   "id": "adece2fb",
   "metadata": {
    "papermill": {
     "duration": 0.019719,
     "end_time": "2025-02-11T02:15:02.337125",
     "exception": false,
     "start_time": "2025-02-11T02:15:02.317406",
     "status": "completed"
    },
    "tags": []
   },
   "source": [
    "# Model test: XGBoost"
   ]
  },
  {
   "cell_type": "code",
   "execution_count": 49,
   "id": "1966f35f",
   "metadata": {
    "execution": {
     "iopub.execute_input": "2025-02-11T02:15:02.378394Z",
     "iopub.status.busy": "2025-02-11T02:15:02.377963Z",
     "iopub.status.idle": "2025-02-11T02:15:02.384000Z",
     "shell.execute_reply": "2025-02-11T02:15:02.382798Z"
    },
    "papermill": {
     "duration": 0.029591,
     "end_time": "2025-02-11T02:15:02.386369",
     "exception": false,
     "start_time": "2025-02-11T02:15:02.356778",
     "status": "completed"
    },
    "tags": []
   },
   "outputs": [],
   "source": [
    "def test_report(model):\n",
    "    test_acc = model.score(X_test,y_test)\n",
    "    y_pred = model.predict(X_test)\n",
    "    cl_rep = classification_report(y_test,y_pred)\n",
    "    print(f'Test Accuracy: {test_acc:.3f}')\n",
    "    print(cl_rep)"
   ]
  },
  {
   "cell_type": "code",
   "execution_count": 50,
   "id": "5c608b06",
   "metadata": {
    "execution": {
     "iopub.execute_input": "2025-02-11T02:15:02.428434Z",
     "iopub.status.busy": "2025-02-11T02:15:02.428036Z",
     "iopub.status.idle": "2025-02-11T02:15:02.448306Z",
     "shell.execute_reply": "2025-02-11T02:15:02.446566Z"
    },
    "papermill": {
     "duration": 0.044259,
     "end_time": "2025-02-11T02:15:02.450749",
     "exception": false,
     "start_time": "2025-02-11T02:15:02.406490",
     "status": "completed"
    },
    "tags": []
   },
   "outputs": [
    {
     "name": "stdout",
     "output_type": "stream",
     "text": [
      "Test Accuracy: 0.838\n",
      "              precision    recall  f1-score   support\n",
      "\n",
      "           0       0.85      0.82      0.83       155\n",
      "           1       0.82      0.85      0.84       155\n",
      "\n",
      "    accuracy                           0.84       310\n",
      "   macro avg       0.84      0.84      0.84       310\n",
      "weighted avg       0.84      0.84      0.84       310\n",
      "\n"
     ]
    }
   ],
   "source": [
    "test_report(final_model)"
   ]
  },
  {
   "cell_type": "markdown",
   "id": "bf31f84e",
   "metadata": {
    "papermill": {
     "duration": 0.019965,
     "end_time": "2025-02-11T02:15:02.492070",
     "exception": false,
     "start_time": "2025-02-11T02:15:02.472105",
     "status": "completed"
    },
    "tags": []
   },
   "source": [
    "# Takeaways\n",
    "- An imbalanced (biased) dataset was trained with and without synthetic oversampling methods, such as SMOTE (Synthetic Minority Over-sampling Technique) and ADASYN (Adaptive Synthetic Sampling Approach). Despite the significant difference in F1 scores for the binary classes at the beginning of training, the final F1 scores for both classes reached a maximum of 84%.\n",
    "- One of the most effective methods for training an imbalanced (biased) dataset to improve both accuracy and generalization of the base model is using synthetic oversampling methods. These methods create synthetic samples from the minority class to balance the class distribution and mitigate the bias.\n",
    "- **SMOTE** works by selecting examples that are close in the feature space, drawing a line between the examples in the feature space, and drawing a new sample at a point along that line. This approach helps to create more general decision boundaries.\n",
    "- **ADASYN** extends SMOTE by adapting the number of synthetic samples generated for each minority class example based on the learning difficulty. It focuses on those examples that are harder to learn, potentially improving model robustness.\n",
    "- Although **ADASYN** appears to be a more advanced method compared to **SMOTE** due to its adaptive nature, there is no standard to prefer one over the other for different data structures. The choice between SMOTE and ADASYN should be based on empirical performance evaluation on the specific dataset being used.\n",
    "- Both methods help in reducing overfitting by generating more varied synthetic samples, which can lead to better model generalization and improved performance metrics like F1 score, precision, and recall.\n",
    "\n"
   ]
  }
 ],
 "metadata": {
  "kaggle": {
   "accelerator": "none",
   "dataSources": [
    {
     "datasetId": 2811378,
     "sourceId": 4850189,
     "sourceType": "datasetVersion"
    }
   ],
   "dockerImageVersionId": 30698,
   "isGpuEnabled": false,
   "isInternetEnabled": true,
   "language": "python",
   "sourceType": "notebook"
  },
  "kernelspec": {
   "display_name": "Python 3",
   "language": "python",
   "name": "python3"
  },
  "language_info": {
   "codemirror_mode": {
    "name": "ipython",
    "version": 3
   },
   "file_extension": ".py",
   "mimetype": "text/x-python",
   "name": "python",
   "nbconvert_exporter": "python",
   "pygments_lexer": "ipython3",
   "version": "3.10.13"
  },
  "papermill": {
   "default_parameters": {},
   "duration": 31.862461,
   "end_time": "2025-02-11T02:15:03.235907",
   "environment_variables": {},
   "exception": null,
   "input_path": "__notebook__.ipynb",
   "output_path": "__notebook__.ipynb",
   "parameters": {},
   "start_time": "2025-02-11T02:14:31.373446",
   "version": "2.5.0"
  }
 },
 "nbformat": 4,
 "nbformat_minor": 5
}
